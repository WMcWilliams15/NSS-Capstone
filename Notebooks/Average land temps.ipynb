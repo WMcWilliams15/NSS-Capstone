{
 "cells": [
  {
   "cell_type": "raw",
   "metadata": {},
   "source": [
    "Get to know the data \n",
    "● Perform quick descriptive statistics \n",
    "        ○ Mean \n",
    "        ○ Median \n",
    "        ○ Max \n",
    "        ○ Min \n",
    "        ○ Variance or Standard Deviation \n",
    "● Look for outliers \n",
    "● Check it out visually \n",
    "● Look at the distribution and variance of data \n",
    "● Further analysis - compare ratios vs. frequencies"
   ]
  },
  {
   "cell_type": "code",
   "execution_count": 21,
   "metadata": {},
   "outputs": [],
   "source": [
    "import pandas as pd \n",
    "import matplotlib.pyplot as plt"
   ]
  },
  {
   "cell_type": "code",
   "execution_count": 22,
   "metadata": {},
   "outputs": [],
   "source": [
    "%store -r average_land_temps"
   ]
  },
  {
   "cell_type": "code",
   "execution_count": 28,
   "metadata": {
    "scrolled": true
   },
   "outputs": [
    {
     "data": {
      "text/html": [
       "<div>\n",
       "<style scoped>\n",
       "    .dataframe tbody tr th:only-of-type {\n",
       "        vertical-align: middle;\n",
       "    }\n",
       "\n",
       "    .dataframe tbody tr th {\n",
       "        vertical-align: top;\n",
       "    }\n",
       "\n",
       "    .dataframe thead th {\n",
       "        text-align: right;\n",
       "    }\n",
       "</style>\n",
       "<table border=\"1\" class=\"dataframe\">\n",
       "  <thead>\n",
       "    <tr style=\"text-align: right;\">\n",
       "      <th></th>\n",
       "      <th>Year</th>\n",
       "      <th>Glob</th>\n",
       "      <th>NHem</th>\n",
       "      <th>SHem</th>\n",
       "      <th>Farenheight</th>\n",
       "    </tr>\n",
       "  </thead>\n",
       "  <tbody>\n",
       "    <tr>\n",
       "      <th>0</th>\n",
       "      <td>1880</td>\n",
       "      <td>-0.16</td>\n",
       "      <td>-0.27</td>\n",
       "      <td>-0.05</td>\n",
       "      <td>-0.29</td>\n",
       "    </tr>\n",
       "    <tr>\n",
       "      <th>1</th>\n",
       "      <td>1881</td>\n",
       "      <td>-0.08</td>\n",
       "      <td>-0.16</td>\n",
       "      <td>0.00</td>\n",
       "      <td>-0.14</td>\n",
       "    </tr>\n",
       "    <tr>\n",
       "      <th>2</th>\n",
       "      <td>1882</td>\n",
       "      <td>-0.10</td>\n",
       "      <td>-0.19</td>\n",
       "      <td>-0.01</td>\n",
       "      <td>-0.18</td>\n",
       "    </tr>\n",
       "    <tr>\n",
       "      <th>3</th>\n",
       "      <td>1883</td>\n",
       "      <td>-0.16</td>\n",
       "      <td>-0.26</td>\n",
       "      <td>-0.07</td>\n",
       "      <td>-0.29</td>\n",
       "    </tr>\n",
       "    <tr>\n",
       "      <th>4</th>\n",
       "      <td>1884</td>\n",
       "      <td>-0.28</td>\n",
       "      <td>-0.41</td>\n",
       "      <td>-0.15</td>\n",
       "      <td>-0.50</td>\n",
       "    </tr>\n",
       "  </tbody>\n",
       "</table>\n",
       "</div>"
      ],
      "text/plain": [
       "   Year  Glob  NHem  SHem  Farenheight\n",
       "0  1880 -0.16 -0.27 -0.05        -0.29\n",
       "1  1881 -0.08 -0.16  0.00        -0.14\n",
       "2  1882 -0.10 -0.19 -0.01        -0.18\n",
       "3  1883 -0.16 -0.26 -0.07        -0.29\n",
       "4  1884 -0.28 -0.41 -0.15        -0.50"
      ]
     },
     "execution_count": 28,
     "metadata": {},
     "output_type": "execute_result"
    }
   ],
   "source": [
    "average_land_temps.head()"
   ]
  },
  {
   "cell_type": "code",
   "execution_count": 24,
   "metadata": {},
   "outputs": [
    {
     "data": {
      "text/html": [
       "<div>\n",
       "<style scoped>\n",
       "    .dataframe tbody tr th:only-of-type {\n",
       "        vertical-align: middle;\n",
       "    }\n",
       "\n",
       "    .dataframe tbody tr th {\n",
       "        vertical-align: top;\n",
       "    }\n",
       "\n",
       "    .dataframe thead th {\n",
       "        text-align: right;\n",
       "    }\n",
       "</style>\n",
       "<table border=\"1\" class=\"dataframe\">\n",
       "  <thead>\n",
       "    <tr style=\"text-align: right;\">\n",
       "      <th></th>\n",
       "      <th>Year</th>\n",
       "      <th>Glob</th>\n",
       "      <th>NHem</th>\n",
       "      <th>SHem</th>\n",
       "      <th>Farenheight</th>\n",
       "    </tr>\n",
       "  </thead>\n",
       "  <tbody>\n",
       "    <tr>\n",
       "      <th>count</th>\n",
       "      <td>140.0000</td>\n",
       "      <td>140.000000</td>\n",
       "      <td>140.000000</td>\n",
       "      <td>140.000000</td>\n",
       "      <td>140.000000</td>\n",
       "    </tr>\n",
       "    <tr>\n",
       "      <th>mean</th>\n",
       "      <td>1949.5000</td>\n",
       "      <td>0.042786</td>\n",
       "      <td>0.069857</td>\n",
       "      <td>0.016429</td>\n",
       "      <td>0.076714</td>\n",
       "    </tr>\n",
       "    <tr>\n",
       "      <th>std</th>\n",
       "      <td>40.5586</td>\n",
       "      <td>0.349520</td>\n",
       "      <td>0.412794</td>\n",
       "      <td>0.305087</td>\n",
       "      <td>0.629388</td>\n",
       "    </tr>\n",
       "    <tr>\n",
       "      <th>min</th>\n",
       "      <td>1880.0000</td>\n",
       "      <td>-0.480000</td>\n",
       "      <td>-0.570000</td>\n",
       "      <td>-0.490000</td>\n",
       "      <td>-0.860000</td>\n",
       "    </tr>\n",
       "    <tr>\n",
       "      <th>25%</th>\n",
       "      <td>1914.7500</td>\n",
       "      <td>-0.205000</td>\n",
       "      <td>-0.210000</td>\n",
       "      <td>-0.220000</td>\n",
       "      <td>-0.370000</td>\n",
       "    </tr>\n",
       "    <tr>\n",
       "      <th>50%</th>\n",
       "      <td>1949.5000</td>\n",
       "      <td>-0.070000</td>\n",
       "      <td>-0.015000</td>\n",
       "      <td>-0.065000</td>\n",
       "      <td>-0.130000</td>\n",
       "    </tr>\n",
       "    <tr>\n",
       "      <th>75%</th>\n",
       "      <td>1984.2500</td>\n",
       "      <td>0.222500</td>\n",
       "      <td>0.232500</td>\n",
       "      <td>0.270000</td>\n",
       "      <td>0.402500</td>\n",
       "    </tr>\n",
       "    <tr>\n",
       "      <th>max</th>\n",
       "      <td>2019.0000</td>\n",
       "      <td>1.020000</td>\n",
       "      <td>1.310000</td>\n",
       "      <td>0.750000</td>\n",
       "      <td>1.840000</td>\n",
       "    </tr>\n",
       "  </tbody>\n",
       "</table>\n",
       "</div>"
      ],
      "text/plain": [
       "            Year        Glob        NHem        SHem  Farenheight\n",
       "count   140.0000  140.000000  140.000000  140.000000   140.000000\n",
       "mean   1949.5000    0.042786    0.069857    0.016429     0.076714\n",
       "std      40.5586    0.349520    0.412794    0.305087     0.629388\n",
       "min    1880.0000   -0.480000   -0.570000   -0.490000    -0.860000\n",
       "25%    1914.7500   -0.205000   -0.210000   -0.220000    -0.370000\n",
       "50%    1949.5000   -0.070000   -0.015000   -0.065000    -0.130000\n",
       "75%    1984.2500    0.222500    0.232500    0.270000     0.402500\n",
       "max    2019.0000    1.020000    1.310000    0.750000     1.840000"
      ]
     },
     "execution_count": 24,
     "metadata": {},
     "output_type": "execute_result"
    }
   ],
   "source": [
    "average_land_temps.describe()"
   ]
  },
  {
   "cell_type": "code",
   "execution_count": 25,
   "metadata": {},
   "outputs": [
    {
     "name": "stdout",
     "output_type": "stream",
     "text": [
      "<class 'pandas.core.frame.DataFrame'>\n",
      "RangeIndex: 140 entries, 0 to 139\n",
      "Data columns (total 5 columns):\n",
      "Year           140 non-null int64\n",
      "Glob           140 non-null float64\n",
      "NHem           140 non-null float64\n",
      "SHem           140 non-null float64\n",
      "Farenheight    140 non-null float64\n",
      "dtypes: float64(4), int64(1)\n",
      "memory usage: 5.5 KB\n"
     ]
    }
   ],
   "source": [
    "average_land_temps.info()"
   ]
  },
  {
   "cell_type": "code",
   "execution_count": 26,
   "metadata": {},
   "outputs": [
    {
     "data": {
      "text/plain": [
       "<matplotlib.axes._subplots.AxesSubplot at 0x2bfc4adcda0>"
      ]
     },
     "execution_count": 26,
     "metadata": {},
     "output_type": "execute_result"
    },
    {
     "data": {
      "image/png": "[encoded data removed]",
      "text/plain": [
       "<Figure size 432x288 with 1 Axes>"
      ]
     },
     "metadata": {
      "needs_background": "light"
     },
     "output_type": "display_data"
    }
   ],
   "source": [
    "average_land_temps.plot(x='Year', y='Glob', kind='line')"
   ]
  },
  {
   "cell_type": "code",
   "execution_count": 29,
   "metadata": {},
   "outputs": [],
   "source": [
    "average_land_temps.to_csv('global_land_temps.csv')"
   ]
  },
  {
   "cell_type": "markdown",
   "metadata": {},
   "source": [
    "# What is a temperature anomaly?\n",
    "\n",
    "\n",
    "The term temperature anomaly means a departure from a reference value or long-term average. A positive anomaly indicates that the observed temperature was warmer than the reference value, while a negative anomaly indicates that the observed temperature was cooler than the reference value. provides a big picture overview of average global temperatures compared to a reference value."
   ]
  },
  {
   "cell_type": "markdown",
   "metadata": {},
   "source": [
    "# Why use temperature anomalies (departure from average) and not absolute temperature measurements?\n",
    "\n",
    "\n",
    "\n",
    "Absolute estimates of global average surface temperature are difficult to compile for several reasons. Some regions have few temperature measurement stations (e.g., the Sahara Desert) and interpolation must be made over large, data-sparse regions. In mountainous areas, most observations come from the inhabited valleys, so the effect of elevation on a region's average temperature must be considered as well. For example, a summer month over an area may be cooler than average, both at a mountain top and in a nearby valley, but the absolute temperatures will be quite different at the two locations. The use of anomalies in this case will show that temperatures for both locations were below average.\n",
    "Using reference values computed on smaller [more local] scales over the same time period establishes a baseline from which anomalies are calculated. This effectively normalizes the data so they can be compared and combined to more accurately represent temperature patterns with respect to what is normal for different places within a region.\n",
    "For these reasons, large-area summaries incorporate anomalies, not the temperature itself. Anomalies more accurately describe climate variability over larger areas than absolute temperatures do, and they give a frame of reference that allows more meaningful comparisons between locations and more accurate calculations of temperature trends."
   ]
  },
  {
   "cell_type": "markdown",
   "metadata": {},
   "source": [
    "# Why is Southern Hemisphere cooler than Northern Hemishpere?\n",
    "\n",
    "\n",
    "largely because the Northern Hemisphere has more land and less ocean than the Southern Hemisphere, and oceans warm relatively slowly. Prior to 1980, the long-term trend that would have been there from increased greenhouse gases during the 20th century was essentially cancelled out by man-made aerosol emissions, which mostly cooled the Northern Hemisphere,\n"
   ]
  },
  {
   "cell_type": "markdown",
   "metadata": {},
   "source": [
    "# Celcius to Farenheight"
   ]
  },
  {
   "cell_type": "markdown",
   "metadata": {},
   "source": [
    "T(°F) = T(°C) × 1.8 + 32\n",
    "\n",
    "use this to check celcius to farenheight conversion:\n",
    "    \n",
    "    1\t2016\t0.94\t1.69\n",
    "    2\t2019\t0.93\t1.67\n",
    "    3\t2015\t0.90\t1.62\n",
    "    4\t2017\t0.84\t1.51\n",
    "    5\t2018\t0.77\t1.39\n",
    "    6\t2014\t0.74\t1.33\n",
    "    7\t2010\t0.70\t1.26\n",
    "    8\t2013\t0.66\t1.19\n",
    "    9\t2005\t0.65\t1.17\n",
    "    10\t2009\t0.64\t1.15"
   ]
  },
  {
   "cell_type": "code",
   "execution_count": null,
   "metadata": {},
   "outputs": [],
   "source": []
  }
 ],
 "metadata": {
  "kernelspec": {
   "display_name": "Python 3",
   "language": "python",
   "name": "python3"
  },
  "language_info": {
   "codemirror_mode": {
    "name": "ipython",
    "version": 3
   },
   "file_extension": ".py",
   "mimetype": "text/x-python",
   "name": "python",
   "nbconvert_exporter": "python",
   "pygments_lexer": "ipython3",
   "version": "3.7.3"
  }
 },
 "nbformat": 4,
 "nbformat_minor": 2
}
