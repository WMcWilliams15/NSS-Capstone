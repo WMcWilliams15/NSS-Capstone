{
 "cells": [
  {
   "cell_type": "raw",
   "metadata": {},
   "source": [
    "Get to know the data \n",
    "● Perform quick descriptive statistics \n",
    "        ○ Mean \n",
    "        ○ Median \n",
    "        ○ Max \n",
    "        ○ Min \n",
    "        ○ Variance or Standard Deviation \n",
    "● Look for outliers \n",
    "● Check it out visually \n",
    "● Look at the distribution and variance of data \n",
    "● Further analysis - compare ratios vs. frequencies"
   ]
  },
  {
   "cell_type": "code",
   "execution_count": 2,
   "metadata": {},
   "outputs": [],
   "source": [
    "import pandas as pd\n",
    "import matplotlib.pyplot as plt\n",
    "%store -r co2_breakdown"
   ]
  },
  {
   "cell_type": "raw",
   "metadata": {},
   "source": [
    "what happen in 2007??? All the levels rise up until 2007, then start to decrease.\n",
    "\n",
    "Industry amounts start to decrease steadily around 2000.\n",
    "\n",
    "Agriculture steadlily increase through out the years.\n",
    "\n",
    "Commercial and residentail is pretty steady through out the years.\n",
    "\n",
    "-- Global Warming Pollution Reduction Act -- (2007)\n",
    "\n"
   ]
  },
  {
   "cell_type": "code",
   "execution_count": 3,
   "metadata": {
    "scrolled": true
   },
   "outputs": [
    {
     "data": {
      "text/html": [
       "<div>\n",
       "<style scoped>\n",
       "    .dataframe tbody tr th:only-of-type {\n",
       "        vertical-align: middle;\n",
       "    }\n",
       "\n",
       "    .dataframe tbody tr th {\n",
       "        vertical-align: top;\n",
       "    }\n",
       "\n",
       "    .dataframe thead th {\n",
       "        text-align: right;\n",
       "    }\n",
       "</style>\n",
       "<table border=\"1\" class=\"dataframe\">\n",
       "  <thead>\n",
       "    <tr style=\"text-align: right;\">\n",
       "      <th></th>\n",
       "      <th>Year</th>\n",
       "      <th>Transportation</th>\n",
       "      <th>Electricity_generation</th>\n",
       "      <th>Industry</th>\n",
       "      <th>Agriculture</th>\n",
       "      <th>Commercial</th>\n",
       "      <th>Residential</th>\n",
       "      <th>U.S._Territories</th>\n",
       "      <th>Total</th>\n",
       "    </tr>\n",
       "  </thead>\n",
       "  <tbody>\n",
       "    <tr>\n",
       "      <th>1</th>\n",
       "      <td>1990</td>\n",
       "      <td>1527.07</td>\n",
       "      <td>1875.59</td>\n",
       "      <td>1628.68</td>\n",
       "      <td>598.967</td>\n",
       "      <td>428.668</td>\n",
       "      <td>344.702</td>\n",
       "      <td>33.3212</td>\n",
       "      <td>6437</td>\n",
       "    </tr>\n",
       "    <tr>\n",
       "      <th>2</th>\n",
       "      <td>1991</td>\n",
       "      <td>1480.93</td>\n",
       "      <td>1871.62</td>\n",
       "      <td>1602.05</td>\n",
       "      <td>589.683</td>\n",
       "      <td>435.61</td>\n",
       "      <td>354.248</td>\n",
       "      <td>39.1239</td>\n",
       "      <td>6373.26</td>\n",
       "    </tr>\n",
       "    <tr>\n",
       "      <th>3</th>\n",
       "      <td>1992</td>\n",
       "      <td>1540.53</td>\n",
       "      <td>1886.59</td>\n",
       "      <td>1633.08</td>\n",
       "      <td>590.57</td>\n",
       "      <td>431.179</td>\n",
       "      <td>360.821</td>\n",
       "      <td>37.3156</td>\n",
       "      <td>6480.09</td>\n",
       "    </tr>\n",
       "    <tr>\n",
       "      <th>4</th>\n",
       "      <td>1993</td>\n",
       "      <td>1577.52</td>\n",
       "      <td>1962.35</td>\n",
       "      <td>1602.41</td>\n",
       "      <td>618.614</td>\n",
       "      <td>424.627</td>\n",
       "      <td>372.165</td>\n",
       "      <td>39.0854</td>\n",
       "      <td>6596.77</td>\n",
       "    </tr>\n",
       "    <tr>\n",
       "      <th>5</th>\n",
       "      <td>1994</td>\n",
       "      <td>1632.15</td>\n",
       "      <td>1987.15</td>\n",
       "      <td>1628.11</td>\n",
       "      <td>605.833</td>\n",
       "      <td>428.066</td>\n",
       "      <td>362.939</td>\n",
       "      <td>41.4794</td>\n",
       "      <td>6685.73</td>\n",
       "    </tr>\n",
       "    <tr>\n",
       "      <th>6</th>\n",
       "      <td>1995</td>\n",
       "      <td>1667.33</td>\n",
       "      <td>2003.87</td>\n",
       "      <td>1646.81</td>\n",
       "      <td>618.138</td>\n",
       "      <td>427.284</td>\n",
       "      <td>367.159</td>\n",
       "      <td>40.4238</td>\n",
       "      <td>6771.02</td>\n",
       "    </tr>\n",
       "    <tr>\n",
       "      <th>7</th>\n",
       "      <td>1996</td>\n",
       "      <td>1723.5</td>\n",
       "      <td>2076.85</td>\n",
       "      <td>1674.91</td>\n",
       "      <td>625.073</td>\n",
       "      <td>434.833</td>\n",
       "      <td>398.995</td>\n",
       "      <td>40.2438</td>\n",
       "      <td>6974.41</td>\n",
       "    </tr>\n",
       "    <tr>\n",
       "      <th>8</th>\n",
       "      <td>1997</td>\n",
       "      <td>1750.01</td>\n",
       "      <td>2143.02</td>\n",
       "      <td>1672.32</td>\n",
       "      <td>613.575</td>\n",
       "      <td>427.624</td>\n",
       "      <td>380.423</td>\n",
       "      <td>41.8358</td>\n",
       "      <td>7028.8</td>\n",
       "    </tr>\n",
       "    <tr>\n",
       "      <th>9</th>\n",
       "      <td>1998</td>\n",
       "      <td>1792.37</td>\n",
       "      <td>2229.56</td>\n",
       "      <td>1644.51</td>\n",
       "      <td>620.526</td>\n",
       "      <td>402.076</td>\n",
       "      <td>346.477</td>\n",
       "      <td>42.2323</td>\n",
       "      <td>7077.75</td>\n",
       "    </tr>\n",
       "    <tr>\n",
       "      <th>10</th>\n",
       "      <td>1999</td>\n",
       "      <td>1863.37</td>\n",
       "      <td>2243.62</td>\n",
       "      <td>1592.6</td>\n",
       "      <td>611.522</td>\n",
       "      <td>398.219</td>\n",
       "      <td>366.279</td>\n",
       "      <td>50.007</td>\n",
       "      <td>7125.61</td>\n",
       "    </tr>\n",
       "    <tr>\n",
       "      <th>11</th>\n",
       "      <td>2000</td>\n",
       "      <td>1901.23</td>\n",
       "      <td>2349.16</td>\n",
       "      <td>1583.77</td>\n",
       "      <td>596.409</td>\n",
       "      <td>412.091</td>\n",
       "      <td>387.001</td>\n",
       "      <td>45.7379</td>\n",
       "      <td>7275.4</td>\n",
       "    </tr>\n",
       "    <tr>\n",
       "      <th>12</th>\n",
       "      <td>2001</td>\n",
       "      <td>1881.78</td>\n",
       "      <td>2309.67</td>\n",
       "      <td>1532.49</td>\n",
       "      <td>617.193</td>\n",
       "      <td>401.106</td>\n",
       "      <td>377.091</td>\n",
       "      <td>53.1488</td>\n",
       "      <td>7172.48</td>\n",
       "    </tr>\n",
       "    <tr>\n",
       "      <th>13</th>\n",
       "      <td>2002</td>\n",
       "      <td>1923.22</td>\n",
       "      <td>2325.54</td>\n",
       "      <td>1517.4</td>\n",
       "      <td>620.001</td>\n",
       "      <td>402.074</td>\n",
       "      <td>374.327</td>\n",
       "      <td>51.8972</td>\n",
       "      <td>7214.46</td>\n",
       "    </tr>\n",
       "    <tr>\n",
       "      <th>14</th>\n",
       "      <td>2003</td>\n",
       "      <td>1914.19</td>\n",
       "      <td>2356.82</td>\n",
       "      <td>1494.88</td>\n",
       "      <td>620.277</td>\n",
       "      <td>418.32</td>\n",
       "      <td>392.685</td>\n",
       "      <td>57.9298</td>\n",
       "      <td>7255.11</td>\n",
       "    </tr>\n",
       "    <tr>\n",
       "      <th>15</th>\n",
       "      <td>2004</td>\n",
       "      <td>1958.14</td>\n",
       "      <td>2389.88</td>\n",
       "      <td>1544.6</td>\n",
       "      <td>632.804</td>\n",
       "      <td>415.92</td>\n",
       "      <td>380.76</td>\n",
       "      <td>59.5577</td>\n",
       "      <td>7381.67</td>\n",
       "    </tr>\n",
       "    <tr>\n",
       "      <th>16</th>\n",
       "      <td>2005</td>\n",
       "      <td>1973.42</td>\n",
       "      <td>2455.93</td>\n",
       "      <td>1501.66</td>\n",
       "      <td>627.539</td>\n",
       "      <td>405.125</td>\n",
       "      <td>370.053</td>\n",
       "      <td>58.0431</td>\n",
       "      <td>7391.77</td>\n",
       "    </tr>\n",
       "    <tr>\n",
       "      <th>17</th>\n",
       "      <td>2006</td>\n",
       "      <td>1969.82</td>\n",
       "      <td>2399.31</td>\n",
       "      <td>1534.31</td>\n",
       "      <td>626.301</td>\n",
       "      <td>391.804</td>\n",
       "      <td>333.942</td>\n",
       "      <td>58.9043</td>\n",
       "      <td>7314.39</td>\n",
       "    </tr>\n",
       "    <tr>\n",
       "      <th>18</th>\n",
       "      <td>2007</td>\n",
       "      <td>1968.84</td>\n",
       "      <td>2466</td>\n",
       "      <td>1524.12</td>\n",
       "      <td>643.548</td>\n",
       "      <td>406.425</td>\n",
       "      <td>355.533</td>\n",
       "      <td>51.9812</td>\n",
       "      <td>7416.45</td>\n",
       "    </tr>\n",
       "    <tr>\n",
       "      <th>19</th>\n",
       "      <td>2008</td>\n",
       "      <td>1871.61</td>\n",
       "      <td>2412.19</td>\n",
       "      <td>1466.53</td>\n",
       "      <td>631.858</td>\n",
       "      <td>414.249</td>\n",
       "      <td>364.165</td>\n",
       "      <td>49.5183</td>\n",
       "      <td>7210.13</td>\n",
       "    </tr>\n",
       "    <tr>\n",
       "      <th>20</th>\n",
       "      <td>2009</td>\n",
       "      <td>1792.98</td>\n",
       "      <td>2196.03</td>\n",
       "      <td>1311.27</td>\n",
       "      <td>633.876</td>\n",
       "      <td>417.831</td>\n",
       "      <td>354.683</td>\n",
       "      <td>47.2406</td>\n",
       "      <td>6753.91</td>\n",
       "    </tr>\n",
       "    <tr>\n",
       "      <th>21</th>\n",
       "      <td>2010</td>\n",
       "      <td>1801.06</td>\n",
       "      <td>2312.12</td>\n",
       "      <td>1403.79</td>\n",
       "      <td>642.106</td>\n",
       "      <td>420.25</td>\n",
       "      <td>355.723</td>\n",
       "      <td>46.5623</td>\n",
       "      <td>6981.61</td>\n",
       "    </tr>\n",
       "    <tr>\n",
       "      <th>22</th>\n",
       "      <td>2011</td>\n",
       "      <td>1768.63</td>\n",
       "      <td>2209.81</td>\n",
       "      <td>1407.83</td>\n",
       "      <td>623.288</td>\n",
       "      <td>415.624</td>\n",
       "      <td>349.317</td>\n",
       "      <td>46.0236</td>\n",
       "      <td>6820.53</td>\n",
       "    </tr>\n",
       "    <tr>\n",
       "      <th>23</th>\n",
       "      <td>2012</td>\n",
       "      <td>1750.43</td>\n",
       "      <td>2070.93</td>\n",
       "      <td>1400.93</td>\n",
       "      <td>606.896</td>\n",
       "      <td>395.756</td>\n",
       "      <td>307.273</td>\n",
       "      <td>48.4585</td>\n",
       "      <td>6580.67</td>\n",
       "    </tr>\n",
       "    <tr>\n",
       "      <th>24</th>\n",
       "      <td>2013</td>\n",
       "      <td>1756.41</td>\n",
       "      <td>2088.89</td>\n",
       "      <td>1453.95</td>\n",
       "      <td>645.168</td>\n",
       "      <td>419.065</td>\n",
       "      <td>357.996</td>\n",
       "      <td>48.0736</td>\n",
       "      <td>6769.55</td>\n",
       "    </tr>\n",
       "    <tr>\n",
       "      <th>25</th>\n",
       "      <td>2014</td>\n",
       "      <td>1791.62</td>\n",
       "      <td>2089.12</td>\n",
       "      <td>1438.78</td>\n",
       "      <td>654.94</td>\n",
       "      <td>429.352</td>\n",
       "      <td>378.575</td>\n",
       "      <td>46.6299</td>\n",
       "      <td>6829.02</td>\n",
       "    </tr>\n",
       "    <tr>\n",
       "      <th>26</th>\n",
       "      <td>2015</td>\n",
       "      <td>1800.24</td>\n",
       "      <td>1949.23</td>\n",
       "      <td>1429.75</td>\n",
       "      <td>655.989</td>\n",
       "      <td>442.512</td>\n",
       "      <td>352.003</td>\n",
       "      <td>46.6361</td>\n",
       "      <td>6676.37</td>\n",
       "    </tr>\n",
       "    <tr>\n",
       "      <th>27</th>\n",
       "      <td>2016</td>\n",
       "      <td>1835.61</td>\n",
       "      <td>1856.81</td>\n",
       "      <td>1388.79</td>\n",
       "      <td>640.981</td>\n",
       "      <td>426.991</td>\n",
       "      <td>328.277</td>\n",
       "      <td>46.6312</td>\n",
       "      <td>6524.08</td>\n",
       "    </tr>\n",
       "    <tr>\n",
       "      <th>28</th>\n",
       "      <td>2017</td>\n",
       "      <td>1852.31</td>\n",
       "      <td>1778.4</td>\n",
       "      <td>1411.53</td>\n",
       "      <td>642.379</td>\n",
       "      <td>426.764</td>\n",
       "      <td>330.235</td>\n",
       "      <td>46.624</td>\n",
       "      <td>6488.23</td>\n",
       "    </tr>\n",
       "    <tr>\n",
       "      <th>29</th>\n",
       "      <td>2018</td>\n",
       "      <td>1882.56</td>\n",
       "      <td>1798.93</td>\n",
       "      <td>1470.74</td>\n",
       "      <td>658.557</td>\n",
       "      <td>443.322</td>\n",
       "      <td>375.919</td>\n",
       "      <td>46.6265</td>\n",
       "      <td>6676.65</td>\n",
       "    </tr>\n",
       "  </tbody>\n",
       "</table>\n",
       "</div>"
      ],
      "text/plain": [
       "    Year Transportation Electricity_generation Industry Agriculture  \\\n",
       "1   1990        1527.07                1875.59  1628.68     598.967   \n",
       "2   1991        1480.93                1871.62  1602.05     589.683   \n",
       "3   1992        1540.53                1886.59  1633.08      590.57   \n",
       "4   1993        1577.52                1962.35  1602.41     618.614   \n",
       "5   1994        1632.15                1987.15  1628.11     605.833   \n",
       "6   1995        1667.33                2003.87  1646.81     618.138   \n",
       "7   1996         1723.5                2076.85  1674.91     625.073   \n",
       "8   1997        1750.01                2143.02  1672.32     613.575   \n",
       "9   1998        1792.37                2229.56  1644.51     620.526   \n",
       "10  1999        1863.37                2243.62   1592.6     611.522   \n",
       "11  2000        1901.23                2349.16  1583.77     596.409   \n",
       "12  2001        1881.78                2309.67  1532.49     617.193   \n",
       "13  2002        1923.22                2325.54   1517.4     620.001   \n",
       "14  2003        1914.19                2356.82  1494.88     620.277   \n",
       "15  2004        1958.14                2389.88   1544.6     632.804   \n",
       "16  2005        1973.42                2455.93  1501.66     627.539   \n",
       "17  2006        1969.82                2399.31  1534.31     626.301   \n",
       "18  2007        1968.84                   2466  1524.12     643.548   \n",
       "19  2008        1871.61                2412.19  1466.53     631.858   \n",
       "20  2009        1792.98                2196.03  1311.27     633.876   \n",
       "21  2010        1801.06                2312.12  1403.79     642.106   \n",
       "22  2011        1768.63                2209.81  1407.83     623.288   \n",
       "23  2012        1750.43                2070.93  1400.93     606.896   \n",
       "24  2013        1756.41                2088.89  1453.95     645.168   \n",
       "25  2014        1791.62                2089.12  1438.78      654.94   \n",
       "26  2015        1800.24                1949.23  1429.75     655.989   \n",
       "27  2016        1835.61                1856.81  1388.79     640.981   \n",
       "28  2017        1852.31                 1778.4  1411.53     642.379   \n",
       "29  2018        1882.56                1798.93  1470.74     658.557   \n",
       "\n",
       "   Commercial Residential U.S._Territories    Total  \n",
       "1     428.668     344.702          33.3212     6437  \n",
       "2      435.61     354.248          39.1239  6373.26  \n",
       "3     431.179     360.821          37.3156  6480.09  \n",
       "4     424.627     372.165          39.0854  6596.77  \n",
       "5     428.066     362.939          41.4794  6685.73  \n",
       "6     427.284     367.159          40.4238  6771.02  \n",
       "7     434.833     398.995          40.2438  6974.41  \n",
       "8     427.624     380.423          41.8358   7028.8  \n",
       "9     402.076     346.477          42.2323  7077.75  \n",
       "10    398.219     366.279           50.007  7125.61  \n",
       "11    412.091     387.001          45.7379   7275.4  \n",
       "12    401.106     377.091          53.1488  7172.48  \n",
       "13    402.074     374.327          51.8972  7214.46  \n",
       "14     418.32     392.685          57.9298  7255.11  \n",
       "15     415.92      380.76          59.5577  7381.67  \n",
       "16    405.125     370.053          58.0431  7391.77  \n",
       "17    391.804     333.942          58.9043  7314.39  \n",
       "18    406.425     355.533          51.9812  7416.45  \n",
       "19    414.249     364.165          49.5183  7210.13  \n",
       "20    417.831     354.683          47.2406  6753.91  \n",
       "21     420.25     355.723          46.5623  6981.61  \n",
       "22    415.624     349.317          46.0236  6820.53  \n",
       "23    395.756     307.273          48.4585  6580.67  \n",
       "24    419.065     357.996          48.0736  6769.55  \n",
       "25    429.352     378.575          46.6299  6829.02  \n",
       "26    442.512     352.003          46.6361  6676.37  \n",
       "27    426.991     328.277          46.6312  6524.08  \n",
       "28    426.764     330.235           46.624  6488.23  \n",
       "29    443.322     375.919          46.6265  6676.65  "
      ]
     },
     "execution_count": 3,
     "metadata": {},
     "output_type": "execute_result"
    }
   ],
   "source": [
    "co2_breakdown"
   ]
  },
  {
   "cell_type": "code",
   "execution_count": 4,
   "metadata": {},
   "outputs": [],
   "source": [
    "def get_aggs(df, col):\n",
    "    drought_sum = df[col].sum()\n",
    "    drought_mean = df[col].mean()\n",
    "    drought_max = df[col].max()\n",
    "    drought_min = df[col].min()\n",
    "    drought_var = df[col].var()\n",
    "    drought_std = df[col].std()\n",
    "    print(f\" sum : {drought_sum}\\n mean: {drought_mean}\\n max: {drought_max}\\n min : {drought_min}\\n var: {drought_var}\\n std: {drought_std}\")"
   ]
  },
  {
   "cell_type": "code",
   "execution_count": 14,
   "metadata": {},
   "outputs": [],
   "source": [
    "co2_breakdown = co2_breakdown.apply(pd.to_numeric)"
   ]
  },
  {
   "cell_type": "code",
   "execution_count": 16,
   "metadata": {},
   "outputs": [
    {
     "name": "stdout",
     "output_type": "stream",
     "text": [
      "<class 'pandas.core.frame.DataFrame'>\n",
      "RangeIndex: 29 entries, 1 to 29\n",
      "Data columns (total 9 columns):\n",
      "Year                      29 non-null int64\n",
      "Transportation            29 non-null float64\n",
      "Electricity_generation    29 non-null float64\n",
      "Industry                  29 non-null float64\n",
      "Agriculture               29 non-null float64\n",
      "Commercial                29 non-null float64\n",
      "Residential               29 non-null float64\n",
      "U.S._Territories          29 non-null float64\n",
      "Total                     29 non-null float64\n",
      "dtypes: float64(8), int64(1)\n",
      "memory usage: 2.1 KB\n"
     ]
    }
   ],
   "source": [
    "co2_breakdown.info()"
   ]
  },
  {
   "cell_type": "markdown",
   "metadata": {},
   "source": [
    "# Transportation"
   ]
  },
  {
   "cell_type": "code",
   "execution_count": 5,
   "metadata": {
    "scrolled": true
   },
   "outputs": [
    {
     "name": "stdout",
     "output_type": "stream",
     "text": [
      " sum : 51948.879903321504\n",
      " mean: 1791.3406863214311\n",
      " max: 1973.4203594630999\n",
      " min : 1480.9272119681002\n",
      " var: 18862.23858970995\n",
      " std: 137.33986526027303\n"
     ]
    }
   ],
   "source": [
    "get_aggs(co2_breakdown, 'Transportation')"
   ]
  },
  {
   "cell_type": "code",
   "execution_count": 18,
   "metadata": {},
   "outputs": [
    {
     "data": {
      "image/png": "[encoded data removed]",
      "text/plain": [
       "<Figure size 432x288 with 1 Axes>"
      ]
     },
     "metadata": {
      "needs_background": "light"
     },
     "output_type": "display_data"
    }
   ],
   "source": [
    "co2_breakdown.plot(x ='Year', y='Transportation', kind = 'line')\n",
    "plt.show()"
   ]
  },
  {
   "cell_type": "code",
   "execution_count": null,
   "metadata": {},
   "outputs": [],
   "source": []
  },
  {
   "cell_type": "markdown",
   "metadata": {},
   "source": [
    "# Electricity Generation"
   ]
  },
  {
   "cell_type": "code",
   "execution_count": 6,
   "metadata": {},
   "outputs": [
    {
     "name": "stdout",
     "output_type": "stream",
     "text": [
      " sum : 62095.0081075244\n",
      " mean: 2141.207176121531\n",
      " max: 2466.0017027891\n",
      " min : 1778.3955188522\n",
      " var: 45622.7104710701\n",
      " std: 213.59473418385133\n"
     ]
    }
   ],
   "source": [
    "get_aggs(co2_breakdown, 'Electricity_generation')"
   ]
  },
  {
   "cell_type": "code",
   "execution_count": 26,
   "metadata": {},
   "outputs": [
    {
     "data": {
      "image/png": "[encoded data removed]",
      "text/plain": [
       "<Figure size 432x288 with 1 Axes>"
      ]
     },
     "metadata": {
      "needs_background": "light"
     },
     "output_type": "display_data"
    }
   ],
   "source": [
    "co2_breakdown.plot(x ='Year', y=['Electricity_generation', kind = 'line')\n",
    "plt.show()"
   ]
  },
  {
   "cell_type": "code",
   "execution_count": null,
   "metadata": {},
   "outputs": [],
   "source": []
  },
  {
   "cell_type": "code",
   "execution_count": null,
   "metadata": {},
   "outputs": [],
   "source": []
  },
  {
   "cell_type": "code",
   "execution_count": null,
   "metadata": {},
   "outputs": [],
   "source": []
  },
  {
   "cell_type": "markdown",
   "metadata": {},
   "source": [
    "# Industry"
   ]
  },
  {
   "cell_type": "code",
   "execution_count": 7,
   "metadata": {},
   "outputs": [
    {
     "name": "stdout",
     "output_type": "stream",
     "text": [
      " sum : 44142.6013961234\n",
      " mean: 1522.1586688318414\n",
      " max: 1674.9088542904997\n",
      " min : 1311.265849161\n",
      " var: 9891.057995813271\n",
      " std: 99.45379829756766\n"
     ]
    }
   ],
   "source": [
    "get_aggs(co2_breakdown, 'Industry')"
   ]
  },
  {
   "cell_type": "code",
   "execution_count": 20,
   "metadata": {},
   "outputs": [
    {
     "data": {
      "image/png": "[encoded data removed]",
      "text/plain": [
       "<Figure size 432x288 with 1 Axes>"
      ]
     },
     "metadata": {
      "needs_background": "light"
     },
     "output_type": "display_data"
    }
   ],
   "source": [
    "co2_breakdown.plot(x ='Year', y='Industry', kind = 'line')\n",
    "plt.show()"
   ]
  },
  {
   "cell_type": "code",
   "execution_count": null,
   "metadata": {},
   "outputs": [],
   "source": []
  },
  {
   "cell_type": "code",
   "execution_count": null,
   "metadata": {},
   "outputs": [],
   "source": []
  },
  {
   "cell_type": "markdown",
   "metadata": {},
   "source": [
    "# Agriculture"
   ]
  },
  {
   "cell_type": "code",
   "execution_count": 8,
   "metadata": {},
   "outputs": [
    {
     "name": "stdout",
     "output_type": "stream",
     "text": [
      " sum : 18112.6104540752\n",
      " mean: 624.5727742784551\n",
      " max: 658.5565496403998\n",
      " min : 589.6825198914\n",
      " var: 354.54911155108704\n",
      " std: 18.829474542617675\n"
     ]
    }
   ],
   "source": [
    "get_aggs(co2_breakdown, 'Agriculture')"
   ]
  },
  {
   "cell_type": "code",
   "execution_count": 22,
   "metadata": {},
   "outputs": [
    {
     "data": {
      "image/png": "[encoded data removed]",
      "text/plain": [
       "<Figure size 432x288 with 1 Axes>"
      ]
     },
     "metadata": {
      "needs_background": "light"
     },
     "output_type": "display_data"
    }
   ],
   "source": [
    "co2_breakdown.plot(x ='Year', y='Agriculture', kind = 'line')\n",
    "plt.show()"
   ]
  },
  {
   "cell_type": "code",
   "execution_count": null,
   "metadata": {},
   "outputs": [],
   "source": []
  },
  {
   "cell_type": "code",
   "execution_count": null,
   "metadata": {},
   "outputs": [],
   "source": []
  },
  {
   "cell_type": "code",
   "execution_count": null,
   "metadata": {},
   "outputs": [],
   "source": []
  },
  {
   "cell_type": "markdown",
   "metadata": {},
   "source": [
    "# Commercial"
   ]
  },
  {
   "cell_type": "code",
   "execution_count": 9,
   "metadata": {},
   "outputs": [
    {
     "name": "stdout",
     "output_type": "stream",
     "text": [
      " sum : 12142.767756333402\n",
      " mean: 418.716129528738\n",
      " max: 443.32173837650004\n",
      " min : 391.8042589501\n",
      " var: 194.59407847532034\n",
      " std: 13.949698149971574\n"
     ]
    }
   ],
   "source": [
    "get_aggs(co2_breakdown, 'Commercial')"
   ]
  },
  {
   "cell_type": "code",
   "execution_count": 21,
   "metadata": {},
   "outputs": [
    {
     "data": {
      "image/png": "[encoded data removed]",
      "text/plain": [
       "<Figure size 432x288 with 1 Axes>"
      ]
     },
     "metadata": {
      "needs_background": "light"
     },
     "output_type": "display_data"
    }
   ],
   "source": [
    "co2_breakdown.plot(x ='Year', y='Commercial', kind = 'line')\n",
    "plt.show()"
   ]
  },
  {
   "cell_type": "code",
   "execution_count": null,
   "metadata": {},
   "outputs": [],
   "source": []
  },
  {
   "cell_type": "code",
   "execution_count": null,
   "metadata": {},
   "outputs": [],
   "source": []
  },
  {
   "cell_type": "code",
   "execution_count": null,
   "metadata": {},
   "outputs": [],
   "source": []
  },
  {
   "cell_type": "markdown",
   "metadata": {},
   "source": [
    "# Residential"
   ]
  },
  {
   "cell_type": "code",
   "execution_count": 10,
   "metadata": {},
   "outputs": [
    {
     "name": "stdout",
     "output_type": "stream",
     "text": [
      " sum : 10479.7663082721\n",
      " mean: 361.3712520093827\n",
      " max: 398.99543777639997\n",
      " min : 307.27321799339995\n",
      " var: 415.1373576252863\n",
      " std: 20.374919818867664\n"
     ]
    }
   ],
   "source": [
    "get_aggs(co2_breakdown, 'Residential')"
   ]
  },
  {
   "cell_type": "code",
   "execution_count": 23,
   "metadata": {},
   "outputs": [
    {
     "data": {
      "image/png": "[encoded data removed]",
      "text/plain": [
       "<Figure size 432x288 with 1 Axes>"
      ]
     },
     "metadata": {
      "needs_background": "light"
     },
     "output_type": "display_data"
    }
   ],
   "source": [
    "co2_breakdown.plot(x ='Year', y='Residential', kind = 'line')\n",
    "plt.show()"
   ]
  },
  {
   "cell_type": "code",
   "execution_count": null,
   "metadata": {},
   "outputs": [],
   "source": []
  },
  {
   "cell_type": "code",
   "execution_count": null,
   "metadata": {},
   "outputs": [],
   "source": []
  },
  {
   "cell_type": "code",
   "execution_count": null,
   "metadata": {},
   "outputs": [],
   "source": []
  },
  {
   "cell_type": "code",
   "execution_count": null,
   "metadata": {},
   "outputs": [],
   "source": []
  },
  {
   "cell_type": "markdown",
   "metadata": {},
   "source": [
    "# Totals"
   ]
  },
  {
   "cell_type": "code",
   "execution_count": 11,
   "metadata": {},
   "outputs": [
    {
     "name": "stdout",
     "output_type": "stream",
     "text": [
      " sum : 200282.9267679593\n",
      " mean: 6906.307819584803\n",
      " max: 7416.4544690238\n",
      " min : 6373.2597034715\n",
      " var: 105137.17227364257\n",
      " std: 324.2486272502053\n"
     ]
    }
   ],
   "source": [
    "get_aggs(co2_breakdown, 'Total')"
   ]
  },
  {
   "cell_type": "code",
   "execution_count": 24,
   "metadata": {},
   "outputs": [
    {
     "data": {
      "image/png": "[encoded data removed]",
      "text/plain": [
       "<Figure size 432x288 with 1 Axes>"
      ]
     },
     "metadata": {
      "needs_background": "light"
     },
     "output_type": "display_data"
    }
   ],
   "source": [
    "co2_breakdown.plot(x ='Year', y='Total', kind = 'line')\n",
    "plt.show()"
   ]
  },
  {
   "cell_type": "code",
   "execution_count": 31,
   "metadata": {},
   "outputs": [
    {
     "data": {
      "image/png": "[encoded data removed]",
      "text/plain": [
       "<Figure size 432x288 with 1 Axes>"
      ]
     },
     "metadata": {
      "needs_background": "light"
     },
     "output_type": "display_data"
    }
   ],
   "source": [
    "co2_breakdown.plot(\n",
    "                    x ='Year', \n",
    "                    y = [\n",
    "                                    'Transportation', \n",
    "                                    'Electricity_generation', \n",
    "                                    'Industry', \n",
    "                                    'Agriculture', \n",
    "                                    'Commercial', \n",
    "                                    'Residential'\n",
    "                        ], \n",
    "                    kind = 'line'\n",
    "                   )\n",
    "\n",
    "plt.legend(loc='center left', bbox_to_anchor=(1.0, 0.5))\n",
    "plt.show()"
   ]
  },
  {
   "cell_type": "code",
   "execution_count": null,
   "metadata": {},
   "outputs": [],
   "source": []
  },
  {
   "cell_type": "code",
   "execution_count": null,
   "metadata": {},
   "outputs": [],
   "source": []
  },
  {
   "cell_type": "code",
   "execution_count": null,
   "metadata": {},
   "outputs": [],
   "source": []
  },
  {
   "cell_type": "code",
   "execution_count": null,
   "metadata": {},
   "outputs": [],
   "source": []
  }
 ],
 "metadata": {
  "kernelspec": {
   "display_name": "Python 3",
   "language": "python",
   "name": "python3"
  },
  "language_info": {
   "codemirror_mode": {
    "name": "ipython",
    "version": 3
   },
   "file_extension": ".py",
   "mimetype": "text/x-python",
   "name": "python",
   "nbconvert_exporter": "python",
   "pygments_lexer": "ipython3",
   "version": "3.7.3"
  }
 },
 "nbformat": 4,
 "nbformat_minor": 2
}
