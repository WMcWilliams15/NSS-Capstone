{
 "cells": [
  {
   "cell_type": "raw",
   "metadata": {},
   "source": [
    "Get to know the data \n",
    "● Perform quick descriptive statistics \n",
    "        ○ Mean \n",
    "        ○ Median \n",
    "        ○ Max \n",
    "        ○ Min \n",
    "        ○ Variance or Standard Deviation \n",
    "● Look for outliers \n",
    "● Check it out visually \n",
    "● Look at the distribution and variance of data \n",
    "● Further analysis - compare ratios vs. frequencies"
   ]
  },
  {
   "cell_type": "code",
   "execution_count": 1,
   "metadata": {},
   "outputs": [],
   "source": [
    "import pandas as pd\n",
    "import matplotlib.pyplot as plt"
   ]
  },
  {
   "cell_type": "code",
   "execution_count": 2,
   "metadata": {},
   "outputs": [],
   "source": [
    "%store -r natural_disasters"
   ]
  },
  {
   "cell_type": "code",
   "execution_count": 3,
   "metadata": {
    "scrolled": true
   },
   "outputs": [
    {
     "data": {
      "text/html": [
       "<div>\n",
       "<style scoped>\n",
       "    .dataframe tbody tr th:only-of-type {\n",
       "        vertical-align: middle;\n",
       "    }\n",
       "\n",
       "    .dataframe tbody tr th {\n",
       "        vertical-align: top;\n",
       "    }\n",
       "\n",
       "    .dataframe thead th {\n",
       "        text-align: right;\n",
       "    }\n",
       "</style>\n",
       "<table border=\"1\" class=\"dataframe\">\n",
       "  <thead>\n",
       "    <tr style=\"text-align: right;\">\n",
       "      <th></th>\n",
       "      <th>Entity</th>\n",
       "      <th>Year</th>\n",
       "      <th>Number of reported natural disasters (reported disasters)</th>\n",
       "    </tr>\n",
       "  </thead>\n",
       "  <tbody>\n",
       "    <tr>\n",
       "      <th>0</th>\n",
       "      <td>All natural disasters</td>\n",
       "      <td>1900</td>\n",
       "      <td>5</td>\n",
       "    </tr>\n",
       "    <tr>\n",
       "      <th>1</th>\n",
       "      <td>All natural disasters</td>\n",
       "      <td>1901</td>\n",
       "      <td>2</td>\n",
       "    </tr>\n",
       "    <tr>\n",
       "      <th>2</th>\n",
       "      <td>All natural disasters</td>\n",
       "      <td>1902</td>\n",
       "      <td>9</td>\n",
       "    </tr>\n",
       "    <tr>\n",
       "      <th>3</th>\n",
       "      <td>All natural disasters</td>\n",
       "      <td>1903</td>\n",
       "      <td>8</td>\n",
       "    </tr>\n",
       "    <tr>\n",
       "      <th>4</th>\n",
       "      <td>All natural disasters</td>\n",
       "      <td>1904</td>\n",
       "      <td>2</td>\n",
       "    </tr>\n",
       "  </tbody>\n",
       "</table>\n",
       "</div>"
      ],
      "text/plain": [
       "                  Entity  Year  \\\n",
       "0  All natural disasters  1900   \n",
       "1  All natural disasters  1901   \n",
       "2  All natural disasters  1902   \n",
       "3  All natural disasters  1903   \n",
       "4  All natural disasters  1904   \n",
       "\n",
       "   Number of reported natural disasters (reported disasters)  \n",
       "0                                                  5          \n",
       "1                                                  2          \n",
       "2                                                  9          \n",
       "3                                                  8          \n",
       "4                                                  2          "
      ]
     },
     "execution_count": 3,
     "metadata": {},
     "output_type": "execute_result"
    }
   ],
   "source": [
    "natural_disasters.head()"
   ]
  },
  {
   "cell_type": "code",
   "execution_count": 6,
   "metadata": {},
   "outputs": [],
   "source": [
    "my_list= ['Drought', 'Extreme temperature', 'Extreme weather', 'Flood', 'Wildfire']\n",
    "cc_nd = natural_disasters[natural_disasters['Entity'].isin(my_list)]\n",
    "cc_nd.to_csv('cc_nd.csv')"
   ]
  },
  {
   "cell_type": "code",
   "execution_count": 208,
   "metadata": {},
   "outputs": [],
   "source": [
    "natural_disasters = natural_disasters.rename(\n",
    "                                                columns={\n",
    "                                                    'Number of reported natural disasters (reported disasters)':'count_of_disasters'\n",
    "                                                        }\n",
    "                                            )"
   ]
  },
  {
   "cell_type": "code",
   "execution_count": 209,
   "metadata": {},
   "outputs": [
    {
     "name": "stdout",
     "output_type": "stream",
     "text": [
      "<class 'pandas.core.frame.DataFrame'>\n",
      "RangeIndex: 837 entries, 0 to 836\n",
      "Data columns (total 3 columns):\n",
      "Entity                837 non-null object\n",
      "Year                  837 non-null int64\n",
      "count_of_disasters    837 non-null int64\n",
      "dtypes: int64(2), object(1)\n",
      "memory usage: 19.7+ KB\n"
     ]
    }
   ],
   "source": [
    "natural_disasters.info()"
   ]
  },
  {
   "cell_type": "code",
   "execution_count": null,
   "metadata": {},
   "outputs": [],
   "source": [
    "'Drought''Extreme temperature''Extreme weather''Flood''Wildfire'"
   ]
  },
  {
   "cell_type": "code",
   "execution_count": 210,
   "metadata": {
    "scrolled": true
   },
   "outputs": [
    {
     "data": {
      "text/plain": [
       "array(['All natural disasters', 'Drought', 'Earthquake',\n",
       "       'Extreme temperature', 'Extreme weather', 'Flood', 'Impact',\n",
       "       'Landslide', 'Mass movement (dry)', 'Volcanic activity',\n",
       "       'Wildfire'], dtype=object)"
      ]
     },
     "execution_count": 210,
     "metadata": {},
     "output_type": "execute_result"
    }
   ],
   "source": [
    "natural_disasters.Entity.unique()"
   ]
  },
  {
   "cell_type": "markdown",
   "metadata": {},
   "source": [
    "# Just the Droughts"
   ]
  },
  {
   "cell_type": "code",
   "execution_count": 211,
   "metadata": {
    "scrolled": true
   },
   "outputs": [],
   "source": [
    "droughts = natural_disasters[natural_disasters['Entity'] == 'Drought']"
   ]
  },
  {
   "cell_type": "code",
   "execution_count": 212,
   "metadata": {},
   "outputs": [],
   "source": [
    "list_of_series = [ \n",
    "                    pd.Series(['Drought', 1901, 0], index=droughts.columns),\n",
    "                    pd.Series(['Drought', 1902, 0], index=droughts.columns),\n",
    "                    pd.Series(['Drought', 1904, 0], index=droughts.columns),\n",
    "                    pd.Series(['Drought', 1905, 0], index=droughts.columns),\n",
    "                    pd.Series(['Drought', 1907, 0], index=droughts.columns),\n",
    "                    pd.Series(['Drought', 1908, 0], index=droughts.columns),\n",
    "                    pd.Series(['Drought', 1909, 0], index=droughts.columns),\n",
    "                    pd.Series(['Drought', 1911, 0], index=droughts.columns),\n",
    "                    pd.Series(['Drought', 1912, 0], index=droughts.columns),\n",
    "                    pd.Series(['Drought', 1913, 0], index=droughts.columns),\n",
    "                    pd.Series(['Drought', 1914, 0], index=droughts.columns),\n",
    "                    pd.Series(['Drought', 1915, 0], index=droughts.columns),\n",
    "                    pd.Series(['Drought', 1916, 0], index=droughts.columns),\n",
    "                    pd.Series(['Drought', 1917, 0], index=droughts.columns),\n",
    "                    pd.Series(['Drought', 1918, 0], index=droughts.columns),\n",
    "                    pd.Series(['Drought', 1922, 0], index=droughts.columns),\n",
    "                    pd.Series(['Drought', 1923, 0], index=droughts.columns),\n",
    "                    pd.Series(['Drought', 1924, 0], index=droughts.columns),\n",
    "                    pd.Series(['Drought', 1925, 0], index=droughts.columns),\n",
    "                    pd.Series(['Drought', 1926, 0], index=droughts.columns),\n",
    "                    pd.Series(['Drought', 1927, 0], index=droughts.columns),\n",
    "                    pd.Series(['Drought', 1929, 0], index=droughts.columns),\n",
    "                    pd.Series(['Drought', 1930, 0], index=droughts.columns),\n",
    "                    pd.Series(['Drought', 1932, 0], index=droughts.columns),\n",
    "                    pd.Series(['Drought', 1934, 0], index=droughts.columns),\n",
    "                    pd.Series(['Drought', 1935, 0], index=droughts.columns),\n",
    "                    pd.Series(['Drought', 1936, 0], index=droughts.columns),\n",
    "                    pd.Series(['Drought', 1937, 0], index=droughts.columns),\n",
    "                    pd.Series(['Drought', 1938, 0], index=droughts.columns),\n",
    "                    pd.Series(['Drought', 1939, 0], index=droughts.columns),\n",
    "                    pd.Series(['Drought', 1941, 0], index=droughts.columns),\n",
    "                    pd.Series(['Drought', 1944, 0], index=droughts.columns),\n",
    "                    pd.Series(['Drought', 1945, 0], index=droughts.columns),\n",
    "                    pd.Series(['Drought', 1948, 0], index=droughts.columns),\n",
    "                    pd.Series(['Drought', 1949, 0], index=droughts.columns),\n",
    "                    pd.Series(['Drought', 1950, 0], index=droughts.columns),\n",
    "                    pd.Series(['Drought', 1951, 0], index=droughts.columns),\n",
    "                    pd.Series(['Drought', 1952, 0], index=droughts.columns),\n",
    "                    pd.Series(['Drought', 1953, 0], index=droughts.columns),\n",
    "                    pd.Series(['Drought', 1954, 0], index=droughts.columns),\n",
    "                    pd.Series(['Drought', 1955, 0], index=droughts.columns),\n",
    "                    pd.Series(['Drought', 1956, 0], index=droughts.columns),\n",
    "                    pd.Series(['Drought', 1957, 0], index=droughts.columns),\n",
    "                    pd.Series(['Drought', 1958, 0], index=droughts.columns),\n",
    "                    pd.Series(['Drought', 1959, 0], index=droughts.columns),\n",
    "                    pd.Series(['Drought', 1962, 0], index=droughts.columns)\n",
    "                   \n",
    "            ]\n",
    "\n",
    "droughts = droughts.append(list_of_series, ignore_index=True)"
   ]
  },
  {
   "cell_type": "code",
   "execution_count": 213,
   "metadata": {},
   "outputs": [],
   "source": [
    "droughts = droughts.sort_values(by='Year')\n"
   ]
  },
  {
   "cell_type": "code",
   "execution_count": 214,
   "metadata": {
    "scrolled": true
   },
   "outputs": [
    {
     "data": {
      "text/html": [
       "<div>\n",
       "<style scoped>\n",
       "    .dataframe tbody tr th:only-of-type {\n",
       "        vertical-align: middle;\n",
       "    }\n",
       "\n",
       "    .dataframe tbody tr th {\n",
       "        vertical-align: top;\n",
       "    }\n",
       "\n",
       "    .dataframe thead th {\n",
       "        text-align: right;\n",
       "    }\n",
       "</style>\n",
       "<table border=\"1\" class=\"dataframe\">\n",
       "  <thead>\n",
       "    <tr style=\"text-align: right;\">\n",
       "      <th></th>\n",
       "      <th>Entity</th>\n",
       "      <th>Year</th>\n",
       "      <th>count_of_disasters</th>\n",
       "    </tr>\n",
       "  </thead>\n",
       "  <tbody>\n",
       "    <tr>\n",
       "      <th>0</th>\n",
       "      <td>Drought</td>\n",
       "      <td>1900</td>\n",
       "      <td>2</td>\n",
       "    </tr>\n",
       "    <tr>\n",
       "      <th>74</th>\n",
       "      <td>Drought</td>\n",
       "      <td>1901</td>\n",
       "      <td>0</td>\n",
       "    </tr>\n",
       "    <tr>\n",
       "      <th>75</th>\n",
       "      <td>Drought</td>\n",
       "      <td>1902</td>\n",
       "      <td>0</td>\n",
       "    </tr>\n",
       "    <tr>\n",
       "      <th>1</th>\n",
       "      <td>Drought</td>\n",
       "      <td>1903</td>\n",
       "      <td>1</td>\n",
       "    </tr>\n",
       "    <tr>\n",
       "      <th>76</th>\n",
       "      <td>Drought</td>\n",
       "      <td>1904</td>\n",
       "      <td>0</td>\n",
       "    </tr>\n",
       "    <tr>\n",
       "      <th>77</th>\n",
       "      <td>Drought</td>\n",
       "      <td>1905</td>\n",
       "      <td>0</td>\n",
       "    </tr>\n",
       "    <tr>\n",
       "      <th>2</th>\n",
       "      <td>Drought</td>\n",
       "      <td>1906</td>\n",
       "      <td>1</td>\n",
       "    </tr>\n",
       "    <tr>\n",
       "      <th>78</th>\n",
       "      <td>Drought</td>\n",
       "      <td>1907</td>\n",
       "      <td>0</td>\n",
       "    </tr>\n",
       "    <tr>\n",
       "      <th>79</th>\n",
       "      <td>Drought</td>\n",
       "      <td>1908</td>\n",
       "      <td>0</td>\n",
       "    </tr>\n",
       "    <tr>\n",
       "      <th>80</th>\n",
       "      <td>Drought</td>\n",
       "      <td>1909</td>\n",
       "      <td>0</td>\n",
       "    </tr>\n",
       "    <tr>\n",
       "      <th>3</th>\n",
       "      <td>Drought</td>\n",
       "      <td>1910</td>\n",
       "      <td>9</td>\n",
       "    </tr>\n",
       "    <tr>\n",
       "      <th>81</th>\n",
       "      <td>Drought</td>\n",
       "      <td>1911</td>\n",
       "      <td>0</td>\n",
       "    </tr>\n",
       "    <tr>\n",
       "      <th>82</th>\n",
       "      <td>Drought</td>\n",
       "      <td>1912</td>\n",
       "      <td>0</td>\n",
       "    </tr>\n",
       "    <tr>\n",
       "      <th>83</th>\n",
       "      <td>Drought</td>\n",
       "      <td>1913</td>\n",
       "      <td>0</td>\n",
       "    </tr>\n",
       "    <tr>\n",
       "      <th>84</th>\n",
       "      <td>Drought</td>\n",
       "      <td>1914</td>\n",
       "      <td>0</td>\n",
       "    </tr>\n",
       "    <tr>\n",
       "      <th>85</th>\n",
       "      <td>Drought</td>\n",
       "      <td>1915</td>\n",
       "      <td>0</td>\n",
       "    </tr>\n",
       "    <tr>\n",
       "      <th>86</th>\n",
       "      <td>Drought</td>\n",
       "      <td>1916</td>\n",
       "      <td>0</td>\n",
       "    </tr>\n",
       "    <tr>\n",
       "      <th>87</th>\n",
       "      <td>Drought</td>\n",
       "      <td>1917</td>\n",
       "      <td>0</td>\n",
       "    </tr>\n",
       "    <tr>\n",
       "      <th>88</th>\n",
       "      <td>Drought</td>\n",
       "      <td>1918</td>\n",
       "      <td>0</td>\n",
       "    </tr>\n",
       "    <tr>\n",
       "      <th>4</th>\n",
       "      <td>Drought</td>\n",
       "      <td>1919</td>\n",
       "      <td>1</td>\n",
       "    </tr>\n",
       "    <tr>\n",
       "      <th>5</th>\n",
       "      <td>Drought</td>\n",
       "      <td>1920</td>\n",
       "      <td>2</td>\n",
       "    </tr>\n",
       "    <tr>\n",
       "      <th>6</th>\n",
       "      <td>Drought</td>\n",
       "      <td>1921</td>\n",
       "      <td>1</td>\n",
       "    </tr>\n",
       "    <tr>\n",
       "      <th>89</th>\n",
       "      <td>Drought</td>\n",
       "      <td>1922</td>\n",
       "      <td>0</td>\n",
       "    </tr>\n",
       "    <tr>\n",
       "      <th>90</th>\n",
       "      <td>Drought</td>\n",
       "      <td>1923</td>\n",
       "      <td>0</td>\n",
       "    </tr>\n",
       "    <tr>\n",
       "      <th>91</th>\n",
       "      <td>Drought</td>\n",
       "      <td>1924</td>\n",
       "      <td>0</td>\n",
       "    </tr>\n",
       "    <tr>\n",
       "      <th>92</th>\n",
       "      <td>Drought</td>\n",
       "      <td>1925</td>\n",
       "      <td>0</td>\n",
       "    </tr>\n",
       "    <tr>\n",
       "      <th>93</th>\n",
       "      <td>Drought</td>\n",
       "      <td>1926</td>\n",
       "      <td>0</td>\n",
       "    </tr>\n",
       "    <tr>\n",
       "      <th>94</th>\n",
       "      <td>Drought</td>\n",
       "      <td>1927</td>\n",
       "      <td>0</td>\n",
       "    </tr>\n",
       "    <tr>\n",
       "      <th>7</th>\n",
       "      <td>Drought</td>\n",
       "      <td>1928</td>\n",
       "      <td>1</td>\n",
       "    </tr>\n",
       "    <tr>\n",
       "      <th>95</th>\n",
       "      <td>Drought</td>\n",
       "      <td>1929</td>\n",
       "      <td>0</td>\n",
       "    </tr>\n",
       "    <tr>\n",
       "      <th>...</th>\n",
       "      <td>...</td>\n",
       "      <td>...</td>\n",
       "      <td>...</td>\n",
       "    </tr>\n",
       "    <tr>\n",
       "      <th>44</th>\n",
       "      <td>Drought</td>\n",
       "      <td>1990</td>\n",
       "      <td>12</td>\n",
       "    </tr>\n",
       "    <tr>\n",
       "      <th>45</th>\n",
       "      <td>Drought</td>\n",
       "      <td>1991</td>\n",
       "      <td>18</td>\n",
       "    </tr>\n",
       "    <tr>\n",
       "      <th>46</th>\n",
       "      <td>Drought</td>\n",
       "      <td>1992</td>\n",
       "      <td>12</td>\n",
       "    </tr>\n",
       "    <tr>\n",
       "      <th>47</th>\n",
       "      <td>Drought</td>\n",
       "      <td>1993</td>\n",
       "      <td>9</td>\n",
       "    </tr>\n",
       "    <tr>\n",
       "      <th>48</th>\n",
       "      <td>Drought</td>\n",
       "      <td>1994</td>\n",
       "      <td>13</td>\n",
       "    </tr>\n",
       "    <tr>\n",
       "      <th>49</th>\n",
       "      <td>Drought</td>\n",
       "      <td>1995</td>\n",
       "      <td>6</td>\n",
       "    </tr>\n",
       "    <tr>\n",
       "      <th>50</th>\n",
       "      <td>Drought</td>\n",
       "      <td>1996</td>\n",
       "      <td>6</td>\n",
       "    </tr>\n",
       "    <tr>\n",
       "      <th>51</th>\n",
       "      <td>Drought</td>\n",
       "      <td>1997</td>\n",
       "      <td>18</td>\n",
       "    </tr>\n",
       "    <tr>\n",
       "      <th>52</th>\n",
       "      <td>Drought</td>\n",
       "      <td>1998</td>\n",
       "      <td>20</td>\n",
       "    </tr>\n",
       "    <tr>\n",
       "      <th>53</th>\n",
       "      <td>Drought</td>\n",
       "      <td>1999</td>\n",
       "      <td>23</td>\n",
       "    </tr>\n",
       "    <tr>\n",
       "      <th>54</th>\n",
       "      <td>Drought</td>\n",
       "      <td>2000</td>\n",
       "      <td>27</td>\n",
       "    </tr>\n",
       "    <tr>\n",
       "      <th>55</th>\n",
       "      <td>Drought</td>\n",
       "      <td>2001</td>\n",
       "      <td>22</td>\n",
       "    </tr>\n",
       "    <tr>\n",
       "      <th>56</th>\n",
       "      <td>Drought</td>\n",
       "      <td>2002</td>\n",
       "      <td>25</td>\n",
       "    </tr>\n",
       "    <tr>\n",
       "      <th>57</th>\n",
       "      <td>Drought</td>\n",
       "      <td>2003</td>\n",
       "      <td>14</td>\n",
       "    </tr>\n",
       "    <tr>\n",
       "      <th>58</th>\n",
       "      <td>Drought</td>\n",
       "      <td>2004</td>\n",
       "      <td>11</td>\n",
       "    </tr>\n",
       "    <tr>\n",
       "      <th>59</th>\n",
       "      <td>Drought</td>\n",
       "      <td>2005</td>\n",
       "      <td>20</td>\n",
       "    </tr>\n",
       "    <tr>\n",
       "      <th>60</th>\n",
       "      <td>Drought</td>\n",
       "      <td>2006</td>\n",
       "      <td>9</td>\n",
       "    </tr>\n",
       "    <tr>\n",
       "      <th>61</th>\n",
       "      <td>Drought</td>\n",
       "      <td>2007</td>\n",
       "      <td>11</td>\n",
       "    </tr>\n",
       "    <tr>\n",
       "      <th>62</th>\n",
       "      <td>Drought</td>\n",
       "      <td>2008</td>\n",
       "      <td>16</td>\n",
       "    </tr>\n",
       "    <tr>\n",
       "      <th>63</th>\n",
       "      <td>Drought</td>\n",
       "      <td>2009</td>\n",
       "      <td>18</td>\n",
       "    </tr>\n",
       "    <tr>\n",
       "      <th>64</th>\n",
       "      <td>Drought</td>\n",
       "      <td>2010</td>\n",
       "      <td>17</td>\n",
       "    </tr>\n",
       "    <tr>\n",
       "      <th>65</th>\n",
       "      <td>Drought</td>\n",
       "      <td>2011</td>\n",
       "      <td>17</td>\n",
       "    </tr>\n",
       "    <tr>\n",
       "      <th>66</th>\n",
       "      <td>Drought</td>\n",
       "      <td>2012</td>\n",
       "      <td>21</td>\n",
       "    </tr>\n",
       "    <tr>\n",
       "      <th>67</th>\n",
       "      <td>Drought</td>\n",
       "      <td>2013</td>\n",
       "      <td>9</td>\n",
       "    </tr>\n",
       "    <tr>\n",
       "      <th>68</th>\n",
       "      <td>Drought</td>\n",
       "      <td>2014</td>\n",
       "      <td>18</td>\n",
       "    </tr>\n",
       "    <tr>\n",
       "      <th>69</th>\n",
       "      <td>Drought</td>\n",
       "      <td>2015</td>\n",
       "      <td>28</td>\n",
       "    </tr>\n",
       "    <tr>\n",
       "      <th>70</th>\n",
       "      <td>Drought</td>\n",
       "      <td>2016</td>\n",
       "      <td>15</td>\n",
       "    </tr>\n",
       "    <tr>\n",
       "      <th>71</th>\n",
       "      <td>Drought</td>\n",
       "      <td>2017</td>\n",
       "      <td>7</td>\n",
       "    </tr>\n",
       "    <tr>\n",
       "      <th>72</th>\n",
       "      <td>Drought</td>\n",
       "      <td>2018</td>\n",
       "      <td>13</td>\n",
       "    </tr>\n",
       "    <tr>\n",
       "      <th>73</th>\n",
       "      <td>Drought</td>\n",
       "      <td>2019</td>\n",
       "      <td>15</td>\n",
       "    </tr>\n",
       "  </tbody>\n",
       "</table>\n",
       "<p>120 rows × 3 columns</p>\n",
       "</div>"
      ],
      "text/plain": [
       "     Entity  Year  count_of_disasters\n",
       "0   Drought  1900                   2\n",
       "74  Drought  1901                   0\n",
       "75  Drought  1902                   0\n",
       "1   Drought  1903                   1\n",
       "76  Drought  1904                   0\n",
       "77  Drought  1905                   0\n",
       "2   Drought  1906                   1\n",
       "78  Drought  1907                   0\n",
       "79  Drought  1908                   0\n",
       "80  Drought  1909                   0\n",
       "3   Drought  1910                   9\n",
       "81  Drought  1911                   0\n",
       "82  Drought  1912                   0\n",
       "83  Drought  1913                   0\n",
       "84  Drought  1914                   0\n",
       "85  Drought  1915                   0\n",
       "86  Drought  1916                   0\n",
       "87  Drought  1917                   0\n",
       "88  Drought  1918                   0\n",
       "4   Drought  1919                   1\n",
       "5   Drought  1920                   2\n",
       "6   Drought  1921                   1\n",
       "89  Drought  1922                   0\n",
       "90  Drought  1923                   0\n",
       "91  Drought  1924                   0\n",
       "92  Drought  1925                   0\n",
       "93  Drought  1926                   0\n",
       "94  Drought  1927                   0\n",
       "7   Drought  1928                   1\n",
       "95  Drought  1929                   0\n",
       "..      ...   ...                 ...\n",
       "44  Drought  1990                  12\n",
       "45  Drought  1991                  18\n",
       "46  Drought  1992                  12\n",
       "47  Drought  1993                   9\n",
       "48  Drought  1994                  13\n",
       "49  Drought  1995                   6\n",
       "50  Drought  1996                   6\n",
       "51  Drought  1997                  18\n",
       "52  Drought  1998                  20\n",
       "53  Drought  1999                  23\n",
       "54  Drought  2000                  27\n",
       "55  Drought  2001                  22\n",
       "56  Drought  2002                  25\n",
       "57  Drought  2003                  14\n",
       "58  Drought  2004                  11\n",
       "59  Drought  2005                  20\n",
       "60  Drought  2006                   9\n",
       "61  Drought  2007                  11\n",
       "62  Drought  2008                  16\n",
       "63  Drought  2009                  18\n",
       "64  Drought  2010                  17\n",
       "65  Drought  2011                  17\n",
       "66  Drought  2012                  21\n",
       "67  Drought  2013                   9\n",
       "68  Drought  2014                  18\n",
       "69  Drought  2015                  28\n",
       "70  Drought  2016                  15\n",
       "71  Drought  2017                   7\n",
       "72  Drought  2018                  13\n",
       "73  Drought  2019                  15\n",
       "\n",
       "[120 rows x 3 columns]"
      ]
     },
     "execution_count": 214,
     "metadata": {},
     "output_type": "execute_result"
    }
   ],
   "source": [
    "droughts"
   ]
  },
  {
   "cell_type": "code",
   "execution_count": 215,
   "metadata": {},
   "outputs": [],
   "source": [
    "droughts.to_csv('droughts_nd.csv')"
   ]
  },
  {
   "cell_type": "code",
   "execution_count": 216,
   "metadata": {},
   "outputs": [
    {
     "name": "stdout",
     "output_type": "stream",
     "text": [
      "<class 'pandas.core.frame.DataFrame'>\n",
      "Int64Index: 120 entries, 0 to 73\n",
      "Data columns (total 3 columns):\n",
      "Entity                120 non-null object\n",
      "Year                  120 non-null int64\n",
      "count_of_disasters    120 non-null int64\n",
      "dtypes: int64(2), object(1)\n",
      "memory usage: 3.8+ KB\n"
     ]
    }
   ],
   "source": [
    "droughts.info()"
   ]
  },
  {
   "cell_type": "code",
   "execution_count": 217,
   "metadata": {},
   "outputs": [],
   "source": [
    "def get_aggs(df, col):\n",
    "    drought_sum = df[col].sum()\n",
    "    drought_mean = df[col].mean()\n",
    "    drought_max = df[col].max()\n",
    "    drought_min = df[col].min()\n",
    "    drought_var = df[col].var()\n",
    "    drought_std = df[col].std()\n",
    "    print(f\" sum : {drought_sum}\\n mean: {drought_mean}\\n max: {drought_max}\\n min : {drought_min}\\n var: {drought_var}\\n std: {drought_std}\")"
   ]
  },
  {
   "cell_type": "code",
   "execution_count": 218,
   "metadata": {},
   "outputs": [
    {
     "name": "stdout",
     "output_type": "stream",
     "text": [
      " sum : 742\n",
      " mean: 6.183333333333334\n",
      " max: 32\n",
      " min : 0\n",
      " var: 60.30224089635854\n",
      " std: 7.765451750951682\n"
     ]
    }
   ],
   "source": [
    "get_aggs(droughts, 'count_of_disasters')"
   ]
  },
  {
   "cell_type": "code",
   "execution_count": 219,
   "metadata": {
    "scrolled": true
   },
   "outputs": [
    {
     "data": {
      "text/plain": [
       "<matplotlib.axes._subplots.AxesSubplot at 0x281654d8c18>"
      ]
     },
     "execution_count": 219,
     "metadata": {},
     "output_type": "execute_result"
    },
    {
     "data": {
      "image/png": "[encoded data removed]",
      "text/plain": [
       "<Figure size 432x288 with 1 Axes>"
      ]
     },
     "metadata": {
      "needs_background": "light"
     },
     "output_type": "display_data"
    }
   ],
   "source": [
    "droughts.plot(x='Year', y='count_of_disasters', kind= 'line')"
   ]
  },
  {
   "cell_type": "code",
   "execution_count": 220,
   "metadata": {},
   "outputs": [
    {
     "data": {
      "text/plain": [
       "array([[<matplotlib.axes._subplots.AxesSubplot object at 0x0000028165553EF0>,\n",
       "        <matplotlib.axes._subplots.AxesSubplot object at 0x00000281655760F0>]],\n",
       "      dtype=object)"
      ]
     },
     "execution_count": 220,
     "metadata": {},
     "output_type": "execute_result"
    },
    {
     "data": {
      "image/png": "[encoded data removed]",
      "text/plain": [
       "<Figure size 432x288 with 2 Axes>"
      ]
     },
     "metadata": {
      "needs_background": "light"
     },
     "output_type": "display_data"
    }
   ],
   "source": [
    "droughts.hist()"
   ]
  },
  {
   "cell_type": "markdown",
   "metadata": {},
   "source": [
    "# Just the Extreme Tempratures"
   ]
  },
  {
   "cell_type": "code",
   "execution_count": 221,
   "metadata": {
    "scrolled": true
   },
   "outputs": [
    {
     "data": {
      "text/html": [
       "<div>\n",
       "<style scoped>\n",
       "    .dataframe tbody tr th:only-of-type {\n",
       "        vertical-align: middle;\n",
       "    }\n",
       "\n",
       "    .dataframe tbody tr th {\n",
       "        vertical-align: top;\n",
       "    }\n",
       "\n",
       "    .dataframe thead th {\n",
       "        text-align: right;\n",
       "    }\n",
       "</style>\n",
       "<table border=\"1\" class=\"dataframe\">\n",
       "  <thead>\n",
       "    <tr style=\"text-align: right;\">\n",
       "      <th></th>\n",
       "      <th>Entity</th>\n",
       "      <th>Year</th>\n",
       "      <th>count_of_disasters</th>\n",
       "    </tr>\n",
       "  </thead>\n",
       "  <tbody>\n",
       "    <tr>\n",
       "      <th>310</th>\n",
       "      <td>Extreme temperature</td>\n",
       "      <td>1936</td>\n",
       "      <td>2</td>\n",
       "    </tr>\n",
       "    <tr>\n",
       "      <th>311</th>\n",
       "      <td>Extreme temperature</td>\n",
       "      <td>1951</td>\n",
       "      <td>2</td>\n",
       "    </tr>\n",
       "    <tr>\n",
       "      <th>312</th>\n",
       "      <td>Extreme temperature</td>\n",
       "      <td>1953</td>\n",
       "      <td>3</td>\n",
       "    </tr>\n",
       "    <tr>\n",
       "      <th>313</th>\n",
       "      <td>Extreme temperature</td>\n",
       "      <td>1955</td>\n",
       "      <td>1</td>\n",
       "    </tr>\n",
       "    <tr>\n",
       "      <th>314</th>\n",
       "      <td>Extreme temperature</td>\n",
       "      <td>1958</td>\n",
       "      <td>2</td>\n",
       "    </tr>\n",
       "    <tr>\n",
       "      <th>315</th>\n",
       "      <td>Extreme temperature</td>\n",
       "      <td>1961</td>\n",
       "      <td>1</td>\n",
       "    </tr>\n",
       "    <tr>\n",
       "      <th>316</th>\n",
       "      <td>Extreme temperature</td>\n",
       "      <td>1962</td>\n",
       "      <td>1</td>\n",
       "    </tr>\n",
       "    <tr>\n",
       "      <th>317</th>\n",
       "      <td>Extreme temperature</td>\n",
       "      <td>1963</td>\n",
       "      <td>2</td>\n",
       "    </tr>\n",
       "    <tr>\n",
       "      <th>318</th>\n",
       "      <td>Extreme temperature</td>\n",
       "      <td>1965</td>\n",
       "      <td>1</td>\n",
       "    </tr>\n",
       "    <tr>\n",
       "      <th>319</th>\n",
       "      <td>Extreme temperature</td>\n",
       "      <td>1966</td>\n",
       "      <td>2</td>\n",
       "    </tr>\n",
       "    <tr>\n",
       "      <th>320</th>\n",
       "      <td>Extreme temperature</td>\n",
       "      <td>1968</td>\n",
       "      <td>2</td>\n",
       "    </tr>\n",
       "    <tr>\n",
       "      <th>321</th>\n",
       "      <td>Extreme temperature</td>\n",
       "      <td>1971</td>\n",
       "      <td>1</td>\n",
       "    </tr>\n",
       "    <tr>\n",
       "      <th>322</th>\n",
       "      <td>Extreme temperature</td>\n",
       "      <td>1972</td>\n",
       "      <td>2</td>\n",
       "    </tr>\n",
       "    <tr>\n",
       "      <th>323</th>\n",
       "      <td>Extreme temperature</td>\n",
       "      <td>1973</td>\n",
       "      <td>3</td>\n",
       "    </tr>\n",
       "    <tr>\n",
       "      <th>324</th>\n",
       "      <td>Extreme temperature</td>\n",
       "      <td>1975</td>\n",
       "      <td>3</td>\n",
       "    </tr>\n",
       "    <tr>\n",
       "      <th>325</th>\n",
       "      <td>Extreme temperature</td>\n",
       "      <td>1977</td>\n",
       "      <td>1</td>\n",
       "    </tr>\n",
       "    <tr>\n",
       "      <th>326</th>\n",
       "      <td>Extreme temperature</td>\n",
       "      <td>1978</td>\n",
       "      <td>1</td>\n",
       "    </tr>\n",
       "    <tr>\n",
       "      <th>327</th>\n",
       "      <td>Extreme temperature</td>\n",
       "      <td>1979</td>\n",
       "      <td>4</td>\n",
       "    </tr>\n",
       "    <tr>\n",
       "      <th>328</th>\n",
       "      <td>Extreme temperature</td>\n",
       "      <td>1980</td>\n",
       "      <td>3</td>\n",
       "    </tr>\n",
       "    <tr>\n",
       "      <th>329</th>\n",
       "      <td>Extreme temperature</td>\n",
       "      <td>1981</td>\n",
       "      <td>2</td>\n",
       "    </tr>\n",
       "    <tr>\n",
       "      <th>330</th>\n",
       "      <td>Extreme temperature</td>\n",
       "      <td>1982</td>\n",
       "      <td>3</td>\n",
       "    </tr>\n",
       "    <tr>\n",
       "      <th>331</th>\n",
       "      <td>Extreme temperature</td>\n",
       "      <td>1983</td>\n",
       "      <td>2</td>\n",
       "    </tr>\n",
       "    <tr>\n",
       "      <th>332</th>\n",
       "      <td>Extreme temperature</td>\n",
       "      <td>1984</td>\n",
       "      <td>1</td>\n",
       "    </tr>\n",
       "    <tr>\n",
       "      <th>333</th>\n",
       "      <td>Extreme temperature</td>\n",
       "      <td>1985</td>\n",
       "      <td>8</td>\n",
       "    </tr>\n",
       "    <tr>\n",
       "      <th>334</th>\n",
       "      <td>Extreme temperature</td>\n",
       "      <td>1986</td>\n",
       "      <td>2</td>\n",
       "    </tr>\n",
       "    <tr>\n",
       "      <th>335</th>\n",
       "      <td>Extreme temperature</td>\n",
       "      <td>1987</td>\n",
       "      <td>6</td>\n",
       "    </tr>\n",
       "    <tr>\n",
       "      <th>336</th>\n",
       "      <td>Extreme temperature</td>\n",
       "      <td>1988</td>\n",
       "      <td>6</td>\n",
       "    </tr>\n",
       "    <tr>\n",
       "      <th>337</th>\n",
       "      <td>Extreme temperature</td>\n",
       "      <td>1989</td>\n",
       "      <td>5</td>\n",
       "    </tr>\n",
       "    <tr>\n",
       "      <th>338</th>\n",
       "      <td>Extreme temperature</td>\n",
       "      <td>1990</td>\n",
       "      <td>13</td>\n",
       "    </tr>\n",
       "    <tr>\n",
       "      <th>339</th>\n",
       "      <td>Extreme temperature</td>\n",
       "      <td>1991</td>\n",
       "      <td>8</td>\n",
       "    </tr>\n",
       "    <tr>\n",
       "      <th>340</th>\n",
       "      <td>Extreme temperature</td>\n",
       "      <td>1992</td>\n",
       "      <td>7</td>\n",
       "    </tr>\n",
       "    <tr>\n",
       "      <th>341</th>\n",
       "      <td>Extreme temperature</td>\n",
       "      <td>1993</td>\n",
       "      <td>4</td>\n",
       "    </tr>\n",
       "    <tr>\n",
       "      <th>342</th>\n",
       "      <td>Extreme temperature</td>\n",
       "      <td>1994</td>\n",
       "      <td>9</td>\n",
       "    </tr>\n",
       "    <tr>\n",
       "      <th>343</th>\n",
       "      <td>Extreme temperature</td>\n",
       "      <td>1995</td>\n",
       "      <td>13</td>\n",
       "    </tr>\n",
       "    <tr>\n",
       "      <th>344</th>\n",
       "      <td>Extreme temperature</td>\n",
       "      <td>1996</td>\n",
       "      <td>5</td>\n",
       "    </tr>\n",
       "    <tr>\n",
       "      <th>345</th>\n",
       "      <td>Extreme temperature</td>\n",
       "      <td>1997</td>\n",
       "      <td>13</td>\n",
       "    </tr>\n",
       "    <tr>\n",
       "      <th>346</th>\n",
       "      <td>Extreme temperature</td>\n",
       "      <td>1998</td>\n",
       "      <td>12</td>\n",
       "    </tr>\n",
       "    <tr>\n",
       "      <th>347</th>\n",
       "      <td>Extreme temperature</td>\n",
       "      <td>1999</td>\n",
       "      <td>8</td>\n",
       "    </tr>\n",
       "    <tr>\n",
       "      <th>348</th>\n",
       "      <td>Extreme temperature</td>\n",
       "      <td>2000</td>\n",
       "      <td>31</td>\n",
       "    </tr>\n",
       "    <tr>\n",
       "      <th>349</th>\n",
       "      <td>Extreme temperature</td>\n",
       "      <td>2001</td>\n",
       "      <td>23</td>\n",
       "    </tr>\n",
       "    <tr>\n",
       "      <th>350</th>\n",
       "      <td>Extreme temperature</td>\n",
       "      <td>2002</td>\n",
       "      <td>15</td>\n",
       "    </tr>\n",
       "    <tr>\n",
       "      <th>351</th>\n",
       "      <td>Extreme temperature</td>\n",
       "      <td>2003</td>\n",
       "      <td>25</td>\n",
       "    </tr>\n",
       "    <tr>\n",
       "      <th>352</th>\n",
       "      <td>Extreme temperature</td>\n",
       "      <td>2004</td>\n",
       "      <td>16</td>\n",
       "    </tr>\n",
       "    <tr>\n",
       "      <th>353</th>\n",
       "      <td>Extreme temperature</td>\n",
       "      <td>2005</td>\n",
       "      <td>30</td>\n",
       "    </tr>\n",
       "    <tr>\n",
       "      <th>354</th>\n",
       "      <td>Extreme temperature</td>\n",
       "      <td>2006</td>\n",
       "      <td>24</td>\n",
       "    </tr>\n",
       "    <tr>\n",
       "      <th>355</th>\n",
       "      <td>Extreme temperature</td>\n",
       "      <td>2007</td>\n",
       "      <td>25</td>\n",
       "    </tr>\n",
       "    <tr>\n",
       "      <th>356</th>\n",
       "      <td>Extreme temperature</td>\n",
       "      <td>2008</td>\n",
       "      <td>10</td>\n",
       "    </tr>\n",
       "    <tr>\n",
       "      <th>357</th>\n",
       "      <td>Extreme temperature</td>\n",
       "      <td>2009</td>\n",
       "      <td>25</td>\n",
       "    </tr>\n",
       "    <tr>\n",
       "      <th>358</th>\n",
       "      <td>Extreme temperature</td>\n",
       "      <td>2010</td>\n",
       "      <td>29</td>\n",
       "    </tr>\n",
       "    <tr>\n",
       "      <th>359</th>\n",
       "      <td>Extreme temperature</td>\n",
       "      <td>2011</td>\n",
       "      <td>16</td>\n",
       "    </tr>\n",
       "    <tr>\n",
       "      <th>360</th>\n",
       "      <td>Extreme temperature</td>\n",
       "      <td>2012</td>\n",
       "      <td>51</td>\n",
       "    </tr>\n",
       "    <tr>\n",
       "      <th>361</th>\n",
       "      <td>Extreme temperature</td>\n",
       "      <td>2013</td>\n",
       "      <td>14</td>\n",
       "    </tr>\n",
       "    <tr>\n",
       "      <th>362</th>\n",
       "      <td>Extreme temperature</td>\n",
       "      <td>2014</td>\n",
       "      <td>17</td>\n",
       "    </tr>\n",
       "    <tr>\n",
       "      <th>363</th>\n",
       "      <td>Extreme temperature</td>\n",
       "      <td>2015</td>\n",
       "      <td>12</td>\n",
       "    </tr>\n",
       "    <tr>\n",
       "      <th>364</th>\n",
       "      <td>Extreme temperature</td>\n",
       "      <td>2016</td>\n",
       "      <td>12</td>\n",
       "    </tr>\n",
       "    <tr>\n",
       "      <th>365</th>\n",
       "      <td>Extreme temperature</td>\n",
       "      <td>2017</td>\n",
       "      <td>11</td>\n",
       "    </tr>\n",
       "    <tr>\n",
       "      <th>366</th>\n",
       "      <td>Extreme temperature</td>\n",
       "      <td>2018</td>\n",
       "      <td>25</td>\n",
       "    </tr>\n",
       "    <tr>\n",
       "      <th>367</th>\n",
       "      <td>Extreme temperature</td>\n",
       "      <td>2019</td>\n",
       "      <td>20</td>\n",
       "    </tr>\n",
       "  </tbody>\n",
       "</table>\n",
       "</div>"
      ],
      "text/plain": [
       "                  Entity  Year  count_of_disasters\n",
       "310  Extreme temperature  1936                   2\n",
       "311  Extreme temperature  1951                   2\n",
       "312  Extreme temperature  1953                   3\n",
       "313  Extreme temperature  1955                   1\n",
       "314  Extreme temperature  1958                   2\n",
       "315  Extreme temperature  1961                   1\n",
       "316  Extreme temperature  1962                   1\n",
       "317  Extreme temperature  1963                   2\n",
       "318  Extreme temperature  1965                   1\n",
       "319  Extreme temperature  1966                   2\n",
       "320  Extreme temperature  1968                   2\n",
       "321  Extreme temperature  1971                   1\n",
       "322  Extreme temperature  1972                   2\n",
       "323  Extreme temperature  1973                   3\n",
       "324  Extreme temperature  1975                   3\n",
       "325  Extreme temperature  1977                   1\n",
       "326  Extreme temperature  1978                   1\n",
       "327  Extreme temperature  1979                   4\n",
       "328  Extreme temperature  1980                   3\n",
       "329  Extreme temperature  1981                   2\n",
       "330  Extreme temperature  1982                   3\n",
       "331  Extreme temperature  1983                   2\n",
       "332  Extreme temperature  1984                   1\n",
       "333  Extreme temperature  1985                   8\n",
       "334  Extreme temperature  1986                   2\n",
       "335  Extreme temperature  1987                   6\n",
       "336  Extreme temperature  1988                   6\n",
       "337  Extreme temperature  1989                   5\n",
       "338  Extreme temperature  1990                  13\n",
       "339  Extreme temperature  1991                   8\n",
       "340  Extreme temperature  1992                   7\n",
       "341  Extreme temperature  1993                   4\n",
       "342  Extreme temperature  1994                   9\n",
       "343  Extreme temperature  1995                  13\n",
       "344  Extreme temperature  1996                   5\n",
       "345  Extreme temperature  1997                  13\n",
       "346  Extreme temperature  1998                  12\n",
       "347  Extreme temperature  1999                   8\n",
       "348  Extreme temperature  2000                  31\n",
       "349  Extreme temperature  2001                  23\n",
       "350  Extreme temperature  2002                  15\n",
       "351  Extreme temperature  2003                  25\n",
       "352  Extreme temperature  2004                  16\n",
       "353  Extreme temperature  2005                  30\n",
       "354  Extreme temperature  2006                  24\n",
       "355  Extreme temperature  2007                  25\n",
       "356  Extreme temperature  2008                  10\n",
       "357  Extreme temperature  2009                  25\n",
       "358  Extreme temperature  2010                  29\n",
       "359  Extreme temperature  2011                  16\n",
       "360  Extreme temperature  2012                  51\n",
       "361  Extreme temperature  2013                  14\n",
       "362  Extreme temperature  2014                  17\n",
       "363  Extreme temperature  2015                  12\n",
       "364  Extreme temperature  2016                  12\n",
       "365  Extreme temperature  2017                  11\n",
       "366  Extreme temperature  2018                  25\n",
       "367  Extreme temperature  2019                  20"
      ]
     },
     "execution_count": 221,
     "metadata": {},
     "output_type": "execute_result"
    }
   ],
   "source": [
    "extreme_temps = natural_disasters[natural_disasters['Entity'] == 'Extreme temperature']\n",
    "extreme_temps"
   ]
  },
  {
   "cell_type": "code",
   "execution_count": 222,
   "metadata": {},
   "outputs": [],
   "source": [
    "list_of_series_temp = [ \n",
    "                        pd.Series(['Extreme temperature', 1900, 0], index=extreme_temps.columns),\n",
    "                        pd.Series(['Extreme temperature', 1901, 0], index=extreme_temps.columns),\n",
    "                        pd.Series(['Extreme temperature', 1902, 0], index=extreme_temps.columns),\n",
    "                        pd.Series(['Extreme temperature', 1903, 0], index=extreme_temps.columns),\n",
    "                        pd.Series(['Extreme temperature', 1904, 0], index=extreme_temps.columns),\n",
    "                        pd.Series(['Extreme temperature', 1905, 0], index=extreme_temps.columns),\n",
    "                        pd.Series(['Extreme temperature', 1906, 0], index=extreme_temps.columns),\n",
    "                        pd.Series(['Extreme temperature', 1907, 0], index=extreme_temps.columns),\n",
    "                        pd.Series(['Extreme temperature', 1908, 0], index=extreme_temps.columns),\n",
    "                        pd.Series(['Extreme temperature', 1909, 0], index=extreme_temps.columns),\n",
    "                        pd.Series(['Extreme temperature', 1910, 0], index=extreme_temps.columns),\n",
    "                        pd.Series(['Extreme temperature', 1911, 0], index=extreme_temps.columns),\n",
    "                        pd.Series(['Extreme temperature', 1912, 0], index=extreme_temps.columns),\n",
    "                        pd.Series(['Extreme temperature', 1913, 0], index=extreme_temps.columns),\n",
    "                        pd.Series(['Extreme temperature', 1914, 0], index=extreme_temps.columns),\n",
    "                        pd.Series(['Extreme temperature', 1915, 0], index=extreme_temps.columns),\n",
    "                        pd.Series(['Extreme temperature', 1916, 0], index=extreme_temps.columns),\n",
    "                        pd.Series(['Extreme temperature', 1917, 0], index=extreme_temps.columns),\n",
    "                        pd.Series(['Extreme temperature', 1918, 0], index=extreme_temps.columns),\n",
    "                        pd.Series(['Extreme temperature', 1919, 0], index=extreme_temps.columns),\n",
    "                        pd.Series(['Extreme temperature', 1920, 0], index=extreme_temps.columns),\n",
    "                        pd.Series(['Extreme temperature', 1921, 0], index=extreme_temps.columns),\n",
    "                        pd.Series(['Extreme temperature', 1922, 0], index=extreme_temps.columns),\n",
    "                        pd.Series(['Extreme temperature', 1923, 0], index=extreme_temps.columns),\n",
    "                        pd.Series(['Extreme temperature', 1924, 0], index=extreme_temps.columns),\n",
    "                        pd.Series(['Extreme temperature', 1925, 0], index=extreme_temps.columns),\n",
    "                        pd.Series(['Extreme temperature', 1926, 0], index=extreme_temps.columns),\n",
    "                        pd.Series(['Extreme temperature', 1927, 0], index=extreme_temps.columns),\n",
    "                        pd.Series(['Extreme temperature', 1928, 0], index=extreme_temps.columns),\n",
    "                        pd.Series(['Extreme temperature', 1929, 0], index=extreme_temps.columns),\n",
    "                        pd.Series(['Extreme temperature', 1930, 0], index=extreme_temps.columns),\n",
    "                        pd.Series(['Extreme temperature', 1931, 0], index=extreme_temps.columns),\n",
    "                        pd.Series(['Extreme temperature', 1932, 0], index=extreme_temps.columns),\n",
    "                        pd.Series(['Extreme temperature', 1933, 0], index=extreme_temps.columns),\n",
    "                        pd.Series(['Extreme temperature', 1934, 0], index=extreme_temps.columns),\n",
    "                        pd.Series(['Extreme temperature', 1935, 0], index=extreme_temps.columns),\n",
    "                        pd.Series(['Extreme temperature', 1937, 0], index=extreme_temps.columns),\n",
    "                        pd.Series(['Extreme temperature', 1938, 0], index=extreme_temps.columns),\n",
    "                        pd.Series(['Extreme temperature', 1939, 0], index=extreme_temps.columns),\n",
    "                        pd.Series(['Extreme temperature', 1940, 0], index=extreme_temps.columns),\n",
    "                        pd.Series(['Extreme temperature', 1941, 0], index=extreme_temps.columns),\n",
    "                        pd.Series(['Extreme temperature', 1942, 0], index=extreme_temps.columns),\n",
    "                        pd.Series(['Extreme temperature', 1943, 0], index=extreme_temps.columns),\n",
    "                        pd.Series(['Extreme temperature', 1944, 0], index=extreme_temps.columns),\n",
    "                        pd.Series(['Extreme temperature', 1945, 0], index=extreme_temps.columns),\n",
    "                        pd.Series(['Extreme temperature', 1946, 0], index=extreme_temps.columns),\n",
    "                        pd.Series(['Extreme temperature', 1947, 0], index=extreme_temps.columns),\n",
    "                        pd.Series(['Extreme temperature', 1948, 0], index=extreme_temps.columns),\n",
    "                        pd.Series(['Extreme temperature', 1949, 0], index=extreme_temps.columns),\n",
    "                        pd.Series(['Extreme temperature', 1950, 0], index=extreme_temps.columns),\n",
    "                        pd.Series(['Extreme temperature', 1952, 0], index=extreme_temps.columns),\n",
    "                        pd.Series(['Extreme temperature', 1954, 0], index=extreme_temps.columns),\n",
    "                        pd.Series(['Extreme temperature', 1956, 0], index=extreme_temps.columns),\n",
    "                        pd.Series(['Extreme temperature', 1957, 0], index=extreme_temps.columns),\n",
    "                        pd.Series(['Extreme temperature', 1959, 0], index=extreme_temps.columns),\n",
    "                        pd.Series(['Extreme temperature', 1964, 0], index=extreme_temps.columns),\n",
    "                        pd.Series(['Extreme temperature', 1967, 0], index=extreme_temps.columns),\n",
    "                        pd.Series(['Extreme temperature', 1969, 0], index=extreme_temps.columns),\n",
    "                        pd.Series(['Extreme temperature', 1970, 0], index=extreme_temps.columns),\n",
    "                        pd.Series(['Extreme temperature', 1974, 0], index=extreme_temps.columns),\n",
    "                        pd.Series(['Extreme temperature', 1976, 0], index=extreme_temps.columns),\n",
    "                        pd.Series(['Extreme temperature', 1960, 0], index=extreme_temps.columns)\n",
    "                   \n",
    "            ]\n",
    "\n",
    "extreme_temps = extreme_temps.append(list_of_series_temp, ignore_index=True)"
   ]
  },
  {
   "cell_type": "code",
   "execution_count": 223,
   "metadata": {},
   "outputs": [],
   "source": [
    "extreme_temps = extreme_temps.sort_values(by='Year')"
   ]
  },
  {
   "cell_type": "code",
   "execution_count": 224,
   "metadata": {},
   "outputs": [],
   "source": [
    "extreme_temps.to_csv('extreme_temps_nd.csv')"
   ]
  },
  {
   "cell_type": "code",
   "execution_count": 225,
   "metadata": {},
   "outputs": [
    {
     "name": "stdout",
     "output_type": "stream",
     "text": [
      "<class 'pandas.core.frame.DataFrame'>\n",
      "Int64Index: 120 entries, 58 to 57\n",
      "Data columns (total 3 columns):\n",
      "Entity                120 non-null object\n",
      "Year                  120 non-null int64\n",
      "count_of_disasters    120 non-null int64\n",
      "dtypes: int64(2), object(1)\n",
      "memory usage: 3.8+ KB\n"
     ]
    }
   ],
   "source": [
    "extreme_temps.info()"
   ]
  },
  {
   "cell_type": "code",
   "execution_count": 226,
   "metadata": {},
   "outputs": [
    {
     "name": "stdout",
     "output_type": "stream",
     "text": [
      " sum : 595\n",
      " mean: 4.958333333333333\n",
      " max: 51\n",
      " min : 0\n",
      " var: 78.22514005602238\n",
      " std: 8.844497727741377\n"
     ]
    }
   ],
   "source": [
    "get_aggs(extreme_temps, 'count_of_disasters')"
   ]
  },
  {
   "cell_type": "code",
   "execution_count": 227,
   "metadata": {
    "scrolled": true
   },
   "outputs": [
    {
     "data": {
      "text/plain": [
       "<matplotlib.axes._subplots.AxesSubplot at 0x28165616eb8>"
      ]
     },
     "execution_count": 227,
     "metadata": {},
     "output_type": "execute_result"
    },
    {
     "data": {
      "image/png": "[encoded data removed]",
      "text/plain": [
       "<Figure size 432x288 with 1 Axes>"
      ]
     },
     "metadata": {
      "needs_background": "light"
     },
     "output_type": "display_data"
    }
   ],
   "source": [
    "extreme_temps.plot(x='Year', y='count_of_disasters', kind= 'line')"
   ]
  },
  {
   "cell_type": "code",
   "execution_count": 228,
   "metadata": {},
   "outputs": [
    {
     "data": {
      "text/plain": [
       "array([[<matplotlib.axes._subplots.AxesSubplot object at 0x0000028165692898>,\n",
       "        <matplotlib.axes._subplots.AxesSubplot object at 0x00000281656A5BA8>]],\n",
       "      dtype=object)"
      ]
     },
     "execution_count": 228,
     "metadata": {},
     "output_type": "execute_result"
    },
    {
     "data": {
      "image/png": "[encoded data removed]",
      "text/plain": [
       "<Figure size 432x288 with 2 Axes>"
      ]
     },
     "metadata": {
      "needs_background": "light"
     },
     "output_type": "display_data"
    }
   ],
   "source": [
    "extreme_temps.hist()"
   ]
  },
  {
   "cell_type": "markdown",
   "metadata": {},
   "source": [
    "# Extreme Weather (hurricanes, tornadoes, etc.)"
   ]
  },
  {
   "cell_type": "code",
   "execution_count": 229,
   "metadata": {
    "scrolled": true
   },
   "outputs": [
    {
     "data": {
      "text/html": [
       "<div>\n",
       "<style scoped>\n",
       "    .dataframe tbody tr th:only-of-type {\n",
       "        vertical-align: middle;\n",
       "    }\n",
       "\n",
       "    .dataframe tbody tr th {\n",
       "        vertical-align: top;\n",
       "    }\n",
       "\n",
       "    .dataframe thead th {\n",
       "        text-align: right;\n",
       "    }\n",
       "</style>\n",
       "<table border=\"1\" class=\"dataframe\">\n",
       "  <thead>\n",
       "    <tr style=\"text-align: right;\">\n",
       "      <th></th>\n",
       "      <th>Entity</th>\n",
       "      <th>Year</th>\n",
       "      <th>count_of_disasters</th>\n",
       "    </tr>\n",
       "  </thead>\n",
       "  <tbody>\n",
       "    <tr>\n",
       "      <th>368</th>\n",
       "      <td>Extreme weather</td>\n",
       "      <td>1900</td>\n",
       "      <td>1</td>\n",
       "    </tr>\n",
       "    <tr>\n",
       "      <th>369</th>\n",
       "      <td>Extreme weather</td>\n",
       "      <td>1902</td>\n",
       "      <td>1</td>\n",
       "    </tr>\n",
       "    <tr>\n",
       "      <th>370</th>\n",
       "      <td>Extreme weather</td>\n",
       "      <td>1903</td>\n",
       "      <td>2</td>\n",
       "    </tr>\n",
       "    <tr>\n",
       "      <th>371</th>\n",
       "      <td>Extreme weather</td>\n",
       "      <td>1904</td>\n",
       "      <td>1</td>\n",
       "    </tr>\n",
       "    <tr>\n",
       "      <th>372</th>\n",
       "      <td>Extreme weather</td>\n",
       "      <td>1905</td>\n",
       "      <td>1</td>\n",
       "    </tr>\n",
       "    <tr>\n",
       "      <th>373</th>\n",
       "      <td>Extreme weather</td>\n",
       "      <td>1906</td>\n",
       "      <td>3</td>\n",
       "    </tr>\n",
       "    <tr>\n",
       "      <th>374</th>\n",
       "      <td>Extreme weather</td>\n",
       "      <td>1909</td>\n",
       "      <td>5</td>\n",
       "    </tr>\n",
       "    <tr>\n",
       "      <th>375</th>\n",
       "      <td>Extreme weather</td>\n",
       "      <td>1910</td>\n",
       "      <td>1</td>\n",
       "    </tr>\n",
       "    <tr>\n",
       "      <th>376</th>\n",
       "      <td>Extreme weather</td>\n",
       "      <td>1911</td>\n",
       "      <td>2</td>\n",
       "    </tr>\n",
       "    <tr>\n",
       "      <th>377</th>\n",
       "      <td>Extreme weather</td>\n",
       "      <td>1912</td>\n",
       "      <td>5</td>\n",
       "    </tr>\n",
       "    <tr>\n",
       "      <th>378</th>\n",
       "      <td>Extreme weather</td>\n",
       "      <td>1913</td>\n",
       "      <td>1</td>\n",
       "    </tr>\n",
       "    <tr>\n",
       "      <th>379</th>\n",
       "      <td>Extreme weather</td>\n",
       "      <td>1914</td>\n",
       "      <td>1</td>\n",
       "    </tr>\n",
       "    <tr>\n",
       "      <th>380</th>\n",
       "      <td>Extreme weather</td>\n",
       "      <td>1915</td>\n",
       "      <td>2</td>\n",
       "    </tr>\n",
       "    <tr>\n",
       "      <th>381</th>\n",
       "      <td>Extreme weather</td>\n",
       "      <td>1916</td>\n",
       "      <td>1</td>\n",
       "    </tr>\n",
       "    <tr>\n",
       "      <th>382</th>\n",
       "      <td>Extreme weather</td>\n",
       "      <td>1917</td>\n",
       "      <td>2</td>\n",
       "    </tr>\n",
       "    <tr>\n",
       "      <th>383</th>\n",
       "      <td>Extreme weather</td>\n",
       "      <td>1918</td>\n",
       "      <td>1</td>\n",
       "    </tr>\n",
       "    <tr>\n",
       "      <th>384</th>\n",
       "      <td>Extreme weather</td>\n",
       "      <td>1919</td>\n",
       "      <td>2</td>\n",
       "    </tr>\n",
       "    <tr>\n",
       "      <th>385</th>\n",
       "      <td>Extreme weather</td>\n",
       "      <td>1920</td>\n",
       "      <td>1</td>\n",
       "    </tr>\n",
       "    <tr>\n",
       "      <th>386</th>\n",
       "      <td>Extreme weather</td>\n",
       "      <td>1922</td>\n",
       "      <td>2</td>\n",
       "    </tr>\n",
       "    <tr>\n",
       "      <th>387</th>\n",
       "      <td>Extreme weather</td>\n",
       "      <td>1923</td>\n",
       "      <td>6</td>\n",
       "    </tr>\n",
       "    <tr>\n",
       "      <th>388</th>\n",
       "      <td>Extreme weather</td>\n",
       "      <td>1924</td>\n",
       "      <td>2</td>\n",
       "    </tr>\n",
       "    <tr>\n",
       "      <th>389</th>\n",
       "      <td>Extreme weather</td>\n",
       "      <td>1925</td>\n",
       "      <td>3</td>\n",
       "    </tr>\n",
       "    <tr>\n",
       "      <th>390</th>\n",
       "      <td>Extreme weather</td>\n",
       "      <td>1926</td>\n",
       "      <td>7</td>\n",
       "    </tr>\n",
       "    <tr>\n",
       "      <th>391</th>\n",
       "      <td>Extreme weather</td>\n",
       "      <td>1927</td>\n",
       "      <td>4</td>\n",
       "    </tr>\n",
       "    <tr>\n",
       "      <th>392</th>\n",
       "      <td>Extreme weather</td>\n",
       "      <td>1928</td>\n",
       "      <td>7</td>\n",
       "    </tr>\n",
       "    <tr>\n",
       "      <th>393</th>\n",
       "      <td>Extreme weather</td>\n",
       "      <td>1929</td>\n",
       "      <td>2</td>\n",
       "    </tr>\n",
       "    <tr>\n",
       "      <th>394</th>\n",
       "      <td>Extreme weather</td>\n",
       "      <td>1930</td>\n",
       "      <td>4</td>\n",
       "    </tr>\n",
       "    <tr>\n",
       "      <th>395</th>\n",
       "      <td>Extreme weather</td>\n",
       "      <td>1931</td>\n",
       "      <td>4</td>\n",
       "    </tr>\n",
       "    <tr>\n",
       "      <th>396</th>\n",
       "      <td>Extreme weather</td>\n",
       "      <td>1932</td>\n",
       "      <td>5</td>\n",
       "    </tr>\n",
       "    <tr>\n",
       "      <th>397</th>\n",
       "      <td>Extreme weather</td>\n",
       "      <td>1933</td>\n",
       "      <td>3</td>\n",
       "    </tr>\n",
       "    <tr>\n",
       "      <th>...</th>\n",
       "      <td>...</td>\n",
       "      <td>...</td>\n",
       "      <td>...</td>\n",
       "    </tr>\n",
       "    <tr>\n",
       "      <th>454</th>\n",
       "      <td>Extreme weather</td>\n",
       "      <td>1990</td>\n",
       "      <td>137</td>\n",
       "    </tr>\n",
       "    <tr>\n",
       "      <th>455</th>\n",
       "      <td>Extreme weather</td>\n",
       "      <td>1991</td>\n",
       "      <td>66</td>\n",
       "    </tr>\n",
       "    <tr>\n",
       "      <th>456</th>\n",
       "      <td>Extreme weather</td>\n",
       "      <td>1992</td>\n",
       "      <td>76</td>\n",
       "    </tr>\n",
       "    <tr>\n",
       "      <th>457</th>\n",
       "      <td>Extreme weather</td>\n",
       "      <td>1993</td>\n",
       "      <td>108</td>\n",
       "    </tr>\n",
       "    <tr>\n",
       "      <th>458</th>\n",
       "      <td>Extreme weather</td>\n",
       "      <td>1994</td>\n",
       "      <td>81</td>\n",
       "    </tr>\n",
       "    <tr>\n",
       "      <th>459</th>\n",
       "      <td>Extreme weather</td>\n",
       "      <td>1995</td>\n",
       "      <td>81</td>\n",
       "    </tr>\n",
       "    <tr>\n",
       "      <th>460</th>\n",
       "      <td>Extreme weather</td>\n",
       "      <td>1996</td>\n",
       "      <td>77</td>\n",
       "    </tr>\n",
       "    <tr>\n",
       "      <th>461</th>\n",
       "      <td>Extreme weather</td>\n",
       "      <td>1997</td>\n",
       "      <td>79</td>\n",
       "    </tr>\n",
       "    <tr>\n",
       "      <th>462</th>\n",
       "      <td>Extreme weather</td>\n",
       "      <td>1998</td>\n",
       "      <td>88</td>\n",
       "    </tr>\n",
       "    <tr>\n",
       "      <th>463</th>\n",
       "      <td>Extreme weather</td>\n",
       "      <td>1999</td>\n",
       "      <td>106</td>\n",
       "    </tr>\n",
       "    <tr>\n",
       "      <th>464</th>\n",
       "      <td>Extreme weather</td>\n",
       "      <td>2000</td>\n",
       "      <td>102</td>\n",
       "    </tr>\n",
       "    <tr>\n",
       "      <th>465</th>\n",
       "      <td>Extreme weather</td>\n",
       "      <td>2001</td>\n",
       "      <td>105</td>\n",
       "    </tr>\n",
       "    <tr>\n",
       "      <th>466</th>\n",
       "      <td>Extreme weather</td>\n",
       "      <td>2002</td>\n",
       "      <td>122</td>\n",
       "    </tr>\n",
       "    <tr>\n",
       "      <th>467</th>\n",
       "      <td>Extreme weather</td>\n",
       "      <td>2003</td>\n",
       "      <td>86</td>\n",
       "    </tr>\n",
       "    <tr>\n",
       "      <th>468</th>\n",
       "      <td>Extreme weather</td>\n",
       "      <td>2004</td>\n",
       "      <td>124</td>\n",
       "    </tr>\n",
       "    <tr>\n",
       "      <th>469</th>\n",
       "      <td>Extreme weather</td>\n",
       "      <td>2005</td>\n",
       "      <td>130</td>\n",
       "    </tr>\n",
       "    <tr>\n",
       "      <th>470</th>\n",
       "      <td>Extreme weather</td>\n",
       "      <td>2006</td>\n",
       "      <td>76</td>\n",
       "    </tr>\n",
       "    <tr>\n",
       "      <th>471</th>\n",
       "      <td>Extreme weather</td>\n",
       "      <td>2007</td>\n",
       "      <td>105</td>\n",
       "    </tr>\n",
       "    <tr>\n",
       "      <th>472</th>\n",
       "      <td>Extreme weather</td>\n",
       "      <td>2008</td>\n",
       "      <td>111</td>\n",
       "    </tr>\n",
       "    <tr>\n",
       "      <th>473</th>\n",
       "      <td>Extreme weather</td>\n",
       "      <td>2009</td>\n",
       "      <td>87</td>\n",
       "    </tr>\n",
       "    <tr>\n",
       "      <th>474</th>\n",
       "      <td>Extreme weather</td>\n",
       "      <td>2010</td>\n",
       "      <td>94</td>\n",
       "    </tr>\n",
       "    <tr>\n",
       "      <th>475</th>\n",
       "      <td>Extreme weather</td>\n",
       "      <td>2011</td>\n",
       "      <td>84</td>\n",
       "    </tr>\n",
       "    <tr>\n",
       "      <th>476</th>\n",
       "      <td>Extreme weather</td>\n",
       "      <td>2012</td>\n",
       "      <td>90</td>\n",
       "    </tr>\n",
       "    <tr>\n",
       "      <th>477</th>\n",
       "      <td>Extreme weather</td>\n",
       "      <td>2013</td>\n",
       "      <td>105</td>\n",
       "    </tr>\n",
       "    <tr>\n",
       "      <th>478</th>\n",
       "      <td>Extreme weather</td>\n",
       "      <td>2014</td>\n",
       "      <td>99</td>\n",
       "    </tr>\n",
       "    <tr>\n",
       "      <th>479</th>\n",
       "      <td>Extreme weather</td>\n",
       "      <td>2015</td>\n",
       "      <td>118</td>\n",
       "    </tr>\n",
       "    <tr>\n",
       "      <th>480</th>\n",
       "      <td>Extreme weather</td>\n",
       "      <td>2016</td>\n",
       "      <td>84</td>\n",
       "    </tr>\n",
       "    <tr>\n",
       "      <th>481</th>\n",
       "      <td>Extreme weather</td>\n",
       "      <td>2017</td>\n",
       "      <td>85</td>\n",
       "    </tr>\n",
       "    <tr>\n",
       "      <th>482</th>\n",
       "      <td>Extreme weather</td>\n",
       "      <td>2018</td>\n",
       "      <td>84</td>\n",
       "    </tr>\n",
       "    <tr>\n",
       "      <th>483</th>\n",
       "      <td>Extreme weather</td>\n",
       "      <td>2019</td>\n",
       "      <td>85</td>\n",
       "    </tr>\n",
       "  </tbody>\n",
       "</table>\n",
       "<p>116 rows × 3 columns</p>\n",
       "</div>"
      ],
      "text/plain": [
       "              Entity  Year  count_of_disasters\n",
       "368  Extreme weather  1900                   1\n",
       "369  Extreme weather  1902                   1\n",
       "370  Extreme weather  1903                   2\n",
       "371  Extreme weather  1904                   1\n",
       "372  Extreme weather  1905                   1\n",
       "373  Extreme weather  1906                   3\n",
       "374  Extreme weather  1909                   5\n",
       "375  Extreme weather  1910                   1\n",
       "376  Extreme weather  1911                   2\n",
       "377  Extreme weather  1912                   5\n",
       "378  Extreme weather  1913                   1\n",
       "379  Extreme weather  1914                   1\n",
       "380  Extreme weather  1915                   2\n",
       "381  Extreme weather  1916                   1\n",
       "382  Extreme weather  1917                   2\n",
       "383  Extreme weather  1918                   1\n",
       "384  Extreme weather  1919                   2\n",
       "385  Extreme weather  1920                   1\n",
       "386  Extreme weather  1922                   2\n",
       "387  Extreme weather  1923                   6\n",
       "388  Extreme weather  1924                   2\n",
       "389  Extreme weather  1925                   3\n",
       "390  Extreme weather  1926                   7\n",
       "391  Extreme weather  1927                   4\n",
       "392  Extreme weather  1928                   7\n",
       "393  Extreme weather  1929                   2\n",
       "394  Extreme weather  1930                   4\n",
       "395  Extreme weather  1931                   4\n",
       "396  Extreme weather  1932                   5\n",
       "397  Extreme weather  1933                   3\n",
       "..               ...   ...                 ...\n",
       "454  Extreme weather  1990                 137\n",
       "455  Extreme weather  1991                  66\n",
       "456  Extreme weather  1992                  76\n",
       "457  Extreme weather  1993                 108\n",
       "458  Extreme weather  1994                  81\n",
       "459  Extreme weather  1995                  81\n",
       "460  Extreme weather  1996                  77\n",
       "461  Extreme weather  1997                  79\n",
       "462  Extreme weather  1998                  88\n",
       "463  Extreme weather  1999                 106\n",
       "464  Extreme weather  2000                 102\n",
       "465  Extreme weather  2001                 105\n",
       "466  Extreme weather  2002                 122\n",
       "467  Extreme weather  2003                  86\n",
       "468  Extreme weather  2004                 124\n",
       "469  Extreme weather  2005                 130\n",
       "470  Extreme weather  2006                  76\n",
       "471  Extreme weather  2007                 105\n",
       "472  Extreme weather  2008                 111\n",
       "473  Extreme weather  2009                  87\n",
       "474  Extreme weather  2010                  94\n",
       "475  Extreme weather  2011                  84\n",
       "476  Extreme weather  2012                  90\n",
       "477  Extreme weather  2013                 105\n",
       "478  Extreme weather  2014                  99\n",
       "479  Extreme weather  2015                 118\n",
       "480  Extreme weather  2016                  84\n",
       "481  Extreme weather  2017                  85\n",
       "482  Extreme weather  2018                  84\n",
       "483  Extreme weather  2019                  85\n",
       "\n",
       "[116 rows x 3 columns]"
      ]
     },
     "execution_count": 229,
     "metadata": {},
     "output_type": "execute_result"
    }
   ],
   "source": [
    "extreme_weather = natural_disasters[natural_disasters['Entity'] == 'Extreme weather']\n",
    "extreme_weather"
   ]
  },
  {
   "cell_type": "code",
   "execution_count": 230,
   "metadata": {},
   "outputs": [],
   "source": [
    "list_of_series_weather = [ \n",
    "                        pd.Series(['Extreme weather', 1901, 0], index=extreme_temps.columns),\n",
    "                        pd.Series(['Extreme weather', 1907, 0], index=extreme_weather.columns),\n",
    "                        pd.Series(['Extreme weather', 1908, 0], index=extreme_weather.columns),\n",
    "                        pd.Series(['Extreme weather', 1921, 0], index=extreme_weather.columns)\n",
    "            ]\n",
    "\n",
    "\n",
    "extreme_weather = extreme_weather.append(list_of_series_weather, ignore_index=True)                     "
   ]
  },
  {
   "cell_type": "code",
   "execution_count": 231,
   "metadata": {},
   "outputs": [],
   "source": [
    "extreme_weather = extreme_weather.sort_values(by='Year')"
   ]
  },
  {
   "cell_type": "code",
   "execution_count": 232,
   "metadata": {},
   "outputs": [],
   "source": [
    "extreme_weather.to_csv('extreme_weather_nd.csv')"
   ]
  },
  {
   "cell_type": "code",
   "execution_count": 233,
   "metadata": {},
   "outputs": [
    {
     "name": "stdout",
     "output_type": "stream",
     "text": [
      "<class 'pandas.core.frame.DataFrame'>\n",
      "Int64Index: 120 entries, 0 to 115\n",
      "Data columns (total 3 columns):\n",
      "Entity                120 non-null object\n",
      "Year                  120 non-null int64\n",
      "count_of_disasters    120 non-null int64\n",
      "dtypes: int64(2), object(1)\n",
      "memory usage: 3.8+ KB\n"
     ]
    }
   ],
   "source": [
    "extreme_weather.info()"
   ]
  },
  {
   "cell_type": "code",
   "execution_count": 234,
   "metadata": {},
   "outputs": [
    {
     "name": "stdout",
     "output_type": "stream",
     "text": [
      " sum : 4214\n",
      " mean: 35.11666666666667\n",
      " max: 137\n",
      " min : 0\n",
      " var: 1549.8854341736694\n",
      " std: 39.368584355722895\n"
     ]
    }
   ],
   "source": [
    "get_aggs(extreme_weather, 'count_of_disasters')"
   ]
  },
  {
   "cell_type": "code",
   "execution_count": 235,
   "metadata": {
    "scrolled": true
   },
   "outputs": [
    {
     "data": {
      "text/plain": [
       "<matplotlib.axes._subplots.AxesSubplot at 0x281657525f8>"
      ]
     },
     "execution_count": 235,
     "metadata": {},
     "output_type": "execute_result"
    },
    {
     "data": {
      "image/png": "[encoded data removed]",
      "text/plain": [
       "<Figure size 432x288 with 1 Axes>"
      ]
     },
     "metadata": {
      "needs_background": "light"
     },
     "output_type": "display_data"
    }
   ],
   "source": [
    "extreme_weather.plot(x='Year', y='count_of_disasters', kind= 'line')"
   ]
  },
  {
   "cell_type": "code",
   "execution_count": 236,
   "metadata": {},
   "outputs": [
    {
     "data": {
      "text/plain": [
       "array([[<matplotlib.axes._subplots.AxesSubplot object at 0x00000281654CC128>,\n",
       "        <matplotlib.axes._subplots.AxesSubplot object at 0x0000028163560E80>]],\n",
       "      dtype=object)"
      ]
     },
     "execution_count": 236,
     "metadata": {},
     "output_type": "execute_result"
    },
    {
     "data": {
      "image/png": "[encoded data removed]",
      "text/plain": [
       "<Figure size 432x288 with 2 Axes>"
      ]
     },
     "metadata": {
      "needs_background": "light"
     },
     "output_type": "display_data"
    }
   ],
   "source": [
    "extreme_weather.hist()"
   ]
  },
  {
   "cell_type": "markdown",
   "metadata": {},
   "source": [
    "# Just the Floods"
   ]
  },
  {
   "cell_type": "code",
   "execution_count": 237,
   "metadata": {
    "scrolled": true
   },
   "outputs": [],
   "source": [
    "floods = natural_disasters[natural_disasters['Entity'] == 'Flood']\n",
    "\n"
   ]
  },
  {
   "cell_type": "code",
   "execution_count": 238,
   "metadata": {},
   "outputs": [],
   "source": [
    "list_of_series_floods = [ \n",
    "                    pd.Series(['Flood', 1901, 0], index=floods.columns),\n",
    "                    pd.Series(['Flood', 1902, 0], index=floods.columns),\n",
    "                    pd.Series(['Flood', 1904, 0], index=floods.columns),\n",
    "                    pd.Series(['Flood', 1905, 0], index=floods.columns),\n",
    "                    pd.Series(['Flood', 1907, 0], index=floods.columns),\n",
    "                    pd.Series(['Flood', 1908, 0], index=floods.columns),\n",
    "                    pd.Series(['Flood', 1912, 0], index=floods.columns),\n",
    "                    pd.Series(['Flood', 1913, 0], index=floods.columns),\n",
    "                    pd.Series(['Flood', 1914, 0], index=floods.columns),\n",
    "                    pd.Series(['Flood', 1916, 0], index=floods.columns), \n",
    "                    pd.Series(['Flood', 1918, 0], index=floods.columns),\n",
    "                    pd.Series(['Flood', 1919, 0], index=floods.columns),\n",
    "                    pd.Series(['Flood', 1921, 0], index=floods.columns),\n",
    "                    pd.Series(['Flood', 1922, 0], index=floods.columns),\n",
    "                    pd.Series(['Flood', 1923, 0], index=floods.columns),\n",
    "                    pd.Series(['Flood', 1924, 0], index=floods.columns),\n",
    "                    pd.Series(['Flood', 1932, 0], index=floods.columns),\n",
    "                    pd.Series(['Flood', 1934, 0], index=floods.columns),\n",
    "                    pd.Series(['Flood', 1941, 0], index=floods.columns),\n",
    "                    pd.Series(['Flood', 1942, 0], index=floods.columns),\n",
    "                    pd.Series(['Flood', 1944, 0], index=floods.columns),\n",
    "                    pd.Series(['Flood', 1945, 0], index=floods.columns),\n",
    "                    pd.Series(['Flood', 1946, 0], index=floods.columns)\n",
    "                    \n",
    "                   \n",
    "            ]\n",
    "\n",
    "floods = floods.append(list_of_series_floods, ignore_index=True)"
   ]
  },
  {
   "cell_type": "code",
   "execution_count": 239,
   "metadata": {},
   "outputs": [],
   "source": [
    "floods = floods.sort_values(by='Year')"
   ]
  },
  {
   "cell_type": "code",
   "execution_count": 240,
   "metadata": {},
   "outputs": [],
   "source": [
    "floods.to_csv('floods_nd.csv')"
   ]
  },
  {
   "cell_type": "code",
   "execution_count": 241,
   "metadata": {
    "scrolled": true
   },
   "outputs": [
    {
     "name": "stdout",
     "output_type": "stream",
     "text": [
      "<class 'pandas.core.frame.DataFrame'>\n",
      "Int64Index: 119 entries, 0 to 95\n",
      "Data columns (total 3 columns):\n",
      "Entity                119 non-null object\n",
      "Year                  119 non-null int64\n",
      "count_of_disasters    119 non-null int64\n",
      "dtypes: int64(2), object(1)\n",
      "memory usage: 3.7+ KB\n"
     ]
    }
   ],
   "source": [
    "floods.info()"
   ]
  },
  {
   "cell_type": "code",
   "execution_count": 242,
   "metadata": {},
   "outputs": [
    {
     "name": "stdout",
     "output_type": "stream",
     "text": [
      " sum : 5130\n",
      " mean: 43.109243697478995\n",
      " max: 226\n",
      " min : 0\n",
      " var: 3610.7252528129898\n",
      " std: 60.089310636859445\n"
     ]
    }
   ],
   "source": [
    "get_aggs(floods, 'count_of_disasters')"
   ]
  },
  {
   "cell_type": "code",
   "execution_count": 243,
   "metadata": {},
   "outputs": [
    {
     "data": {
      "text/plain": [
       "<matplotlib.axes._subplots.AxesSubplot at 0x28161287710>"
      ]
     },
     "execution_count": 243,
     "metadata": {},
     "output_type": "execute_result"
    },
    {
     "data": {
      "image/png": "[encoded data removed]",
      "text/plain": [
       "<Figure size 432x288 with 1 Axes>"
      ]
     },
     "metadata": {
      "needs_background": "light"
     },
     "output_type": "display_data"
    }
   ],
   "source": [
    "floods.plot(x='Year', y='count_of_disasters', kind= 'line')"
   ]
  },
  {
   "cell_type": "code",
   "execution_count": 244,
   "metadata": {},
   "outputs": [
    {
     "data": {
      "text/plain": [
       "array([[<matplotlib.axes._subplots.AxesSubplot object at 0x0000028161294C88>,\n",
       "        <matplotlib.axes._subplots.AxesSubplot object at 0x0000028161E8BAC8>]],\n",
       "      dtype=object)"
      ]
     },
     "execution_count": 244,
     "metadata": {},
     "output_type": "execute_result"
    },
    {
     "data": {
      "image/png": "[encoded data removed]",
      "text/plain": [
       "<Figure size 432x288 with 2 Axes>"
      ]
     },
     "metadata": {
      "needs_background": "light"
     },
     "output_type": "display_data"
    }
   ],
   "source": [
    "floods.hist()"
   ]
  },
  {
   "cell_type": "code",
   "execution_count": null,
   "metadata": {},
   "outputs": [],
   "source": []
  },
  {
   "cell_type": "markdown",
   "metadata": {},
   "source": [
    "# Just the Wild Fires"
   ]
  },
  {
   "cell_type": "code",
   "execution_count": 245,
   "metadata": {
    "scrolled": true
   },
   "outputs": [],
   "source": [
    "wild_fire = natural_disasters[natural_disasters['Entity'] == 'Wildfire']\n"
   ]
  },
  {
   "cell_type": "code",
   "execution_count": 246,
   "metadata": {},
   "outputs": [],
   "source": [
    "list_of_series_flood = [ \n",
    "                        pd.Series(['Wildfire', 1900, 0], index=wild_fire.columns),\n",
    "                        pd.Series(['Wildfire', 1901, 0], index=wild_fire.columns),\n",
    "                        pd.Series(['Wildfire', 1902, 0], index=wild_fire.columns),\n",
    "                        pd.Series(['Wildfire', 1903, 0], index=wild_fire.columns),\n",
    "                        pd.Series(['Wildfire', 1904, 0], index=wild_fire.columns),\n",
    "                        pd.Series(['Wildfire', 1905, 0], index=wild_fire.columns),\n",
    "                        pd.Series(['Wildfire', 1906, 0], index=wild_fire.columns),\n",
    "                        pd.Series(['Wildfire', 1907, 0], index=wild_fire.columns),\n",
    "                        pd.Series(['Wildfire', 1908, 0], index=wild_fire.columns),\n",
    "                        pd.Series(['Wildfire', 1909, 0], index=wild_fire.columns),\n",
    "                        pd.Series(['Wildfire', 1910, 0], index=wild_fire.columns),\n",
    "                        \n",
    "                        pd.Series(['Wildfire', 1912, 0], index=wild_fire.columns),\n",
    "                        pd.Series(['Wildfire', 1913, 0], index=wild_fire.columns),\n",
    "                        pd.Series(['Wildfire', 1914, 0], index=wild_fire.columns),\n",
    "                        pd.Series(['Wildfire', 1915, 0], index=wild_fire.columns),\n",
    "                        pd.Series(['Wildfire', 1916, 0], index=wild_fire.columns),\n",
    "                        pd.Series(['Wildfire', 1917, 0], index=wild_fire.columns),\n",
    "                        \n",
    "                        pd.Series(['Wildfire', 1919, 0], index=wild_fire.columns),\n",
    "                        pd.Series(['Wildfire', 1920, 0], index=wild_fire.columns),\n",
    "                        pd.Series(['Wildfire', 1921, 0], index=wild_fire.columns),\n",
    "                       \n",
    "                        pd.Series(['Wildfire', 1923, 0], index=wild_fire.columns),\n",
    "                        pd.Series(['Wildfire', 1924, 0], index=wild_fire.columns),\n",
    "                        pd.Series(['Wildfire', 1925, 0], index=wild_fire.columns),\n",
    "                        pd.Series(['Wildfire', 1926, 0], index=wild_fire.columns),\n",
    "                        pd.Series(['Wildfire', 1927, 0], index=wild_fire.columns),\n",
    "                        pd.Series(['Wildfire', 1928, 0], index=wild_fire.columns),\n",
    "                        \n",
    "                        pd.Series(['Wildfire', 1930, 0], index=wild_fire.columns),\n",
    "                        pd.Series(['Wildfire', 1931, 0], index=wild_fire.columns),\n",
    "                        pd.Series(['Wildfire', 1933, 0], index=wild_fire.columns),\n",
    "                        pd.Series(['Wildfire', 1934, 0], index=wild_fire.columns),\n",
    "                        pd.Series(['Wildfire', 1935, 0], index=wild_fire.columns),\n",
    "                        pd.Series(['Wildfire', 1936, 0], index=wild_fire.columns),\n",
    "                        pd.Series(['Wildfire', 1937, 0], index=wild_fire.columns),\n",
    "                        pd.Series(['Wildfire', 1938, 0], index=wild_fire.columns),\n",
    "                        \n",
    "                        pd.Series(['Wildfire', 1940, 0], index=wild_fire.columns),\n",
    "                        pd.Series(['Wildfire', 1941, 0], index=wild_fire.columns),\n",
    "                        pd.Series(['Wildfire', 1942, 0], index=wild_fire.columns),\n",
    "                        pd.Series(['Wildfire', 1943, 0], index=wild_fire.columns),\n",
    "                        \n",
    "                        pd.Series(['Wildfire', 1945, 0], index=wild_fire.columns),\n",
    "                        pd.Series(['Wildfire', 1946, 0], index=wild_fire.columns),\n",
    "                        \n",
    "                        pd.Series(['Wildfire', 1948, 0], index=wild_fire.columns),\n",
    "                        \n",
    "                        pd.Series(['Wildfire', 1950, 0], index=wild_fire.columns),\n",
    "                        pd.Series(['Wildfire', 1951, 0], index=wild_fire.columns),\n",
    "                        pd.Series(['Wildfire', 1952, 0], index=wild_fire.columns),\n",
    "                        pd.Series(['Wildfire', 1953, 0], index=wild_fire.columns),\n",
    "                        pd.Series(['Wildfire', 1954, 0], index=wild_fire.columns),\n",
    "                        pd.Series(['Wildfire', 1955, 0], index=wild_fire.columns),\n",
    "                        pd.Series(['Wildfire', 1957, 0], index=wild_fire.columns),\n",
    "                        pd.Series(['Wildfire', 1958, 0], index=wild_fire.columns),\n",
    "                        pd.Series(['Wildfire', 1959, 0], index=wild_fire.columns),\n",
    "                        pd.Series(['Wildfire', 1960, 0], index=wild_fire.columns),\n",
    "                        pd.Series(['Wildfire', 1961, 0], index=wild_fire.columns),\n",
    "                        pd.Series(['Wildfire', 1962, 0], index=wild_fire.columns),\n",
    "                        pd.Series(['Wildfire', 1963, 0], index=wild_fire.columns),\n",
    "                        pd.Series(['Wildfire', 1964, 0], index=wild_fire.columns)\n",
    "            ]\n",
    "\n",
    "wild_fire = wild_fire.append(list_of_series_flood, ignore_index=True)"
   ]
  },
  {
   "cell_type": "code",
   "execution_count": 247,
   "metadata": {},
   "outputs": [],
   "source": [
    "wild_fire = wild_fire.sort_values(by='Year')"
   ]
  },
  {
   "cell_type": "code",
   "execution_count": 248,
   "metadata": {},
   "outputs": [],
   "source": [
    "wild_fire.to_csv('wild_fire_nd.csv')"
   ]
  },
  {
   "cell_type": "code",
   "execution_count": 249,
   "metadata": {
    "scrolled": true
   },
   "outputs": [
    {
     "name": "stdout",
     "output_type": "stream",
     "text": [
      "<class 'pandas.core.frame.DataFrame'>\n",
      "Int64Index: 118 entries, 63 to 62\n",
      "Data columns (total 3 columns):\n",
      "Entity                118 non-null object\n",
      "Year                  118 non-null int64\n",
      "count_of_disasters    118 non-null int64\n",
      "dtypes: int64(2), object(1)\n",
      "memory usage: 3.7+ KB\n"
     ]
    }
   ],
   "source": [
    "wild_fire.info()"
   ]
  },
  {
   "cell_type": "code",
   "execution_count": 250,
   "metadata": {},
   "outputs": [
    {
     "name": "stdout",
     "output_type": "stream",
     "text": [
      " sum : 443\n",
      " mean: 3.7542372881355934\n",
      " max: 30\n",
      " min : 0\n",
      " var: 33.1271186440678\n",
      " std: 5.75561626970282\n"
     ]
    }
   ],
   "source": [
    "get_aggs(wild_fire, 'count_of_disasters')"
   ]
  },
  {
   "cell_type": "code",
   "execution_count": 251,
   "metadata": {},
   "outputs": [
    {
     "data": {
      "text/html": [
       "<div>\n",
       "<style scoped>\n",
       "    .dataframe tbody tr th:only-of-type {\n",
       "        vertical-align: middle;\n",
       "    }\n",
       "\n",
       "    .dataframe tbody tr th {\n",
       "        vertical-align: top;\n",
       "    }\n",
       "\n",
       "    .dataframe thead th {\n",
       "        text-align: right;\n",
       "    }\n",
       "</style>\n",
       "<table border=\"1\" class=\"dataframe\">\n",
       "  <thead>\n",
       "    <tr style=\"text-align: right;\">\n",
       "      <th></th>\n",
       "      <th>Year</th>\n",
       "      <th>count_of_disasters</th>\n",
       "    </tr>\n",
       "  </thead>\n",
       "  <tbody>\n",
       "    <tr>\n",
       "      <th>count</th>\n",
       "      <td>118.000000</td>\n",
       "      <td>118.000000</td>\n",
       "    </tr>\n",
       "    <tr>\n",
       "      <th>mean</th>\n",
       "      <td>1959.491525</td>\n",
       "      <td>3.754237</td>\n",
       "    </tr>\n",
       "    <tr>\n",
       "      <th>std</th>\n",
       "      <td>34.889507</td>\n",
       "      <td>5.755616</td>\n",
       "    </tr>\n",
       "    <tr>\n",
       "      <th>min</th>\n",
       "      <td>1900.000000</td>\n",
       "      <td>0.000000</td>\n",
       "    </tr>\n",
       "    <tr>\n",
       "      <th>25%</th>\n",
       "      <td>1929.250000</td>\n",
       "      <td>0.000000</td>\n",
       "    </tr>\n",
       "    <tr>\n",
       "      <th>50%</th>\n",
       "      <td>1959.500000</td>\n",
       "      <td>1.000000</td>\n",
       "    </tr>\n",
       "    <tr>\n",
       "      <th>75%</th>\n",
       "      <td>1989.750000</td>\n",
       "      <td>5.750000</td>\n",
       "    </tr>\n",
       "    <tr>\n",
       "      <th>max</th>\n",
       "      <td>2019.000000</td>\n",
       "      <td>30.000000</td>\n",
       "    </tr>\n",
       "  </tbody>\n",
       "</table>\n",
       "</div>"
      ],
      "text/plain": [
       "              Year  count_of_disasters\n",
       "count   118.000000          118.000000\n",
       "mean   1959.491525            3.754237\n",
       "std      34.889507            5.755616\n",
       "min    1900.000000            0.000000\n",
       "25%    1929.250000            0.000000\n",
       "50%    1959.500000            1.000000\n",
       "75%    1989.750000            5.750000\n",
       "max    2019.000000           30.000000"
      ]
     },
     "execution_count": 251,
     "metadata": {},
     "output_type": "execute_result"
    }
   ],
   "source": [
    "wild_fire.describe()"
   ]
  },
  {
   "cell_type": "code",
   "execution_count": 252,
   "metadata": {
    "scrolled": true
   },
   "outputs": [
    {
     "data": {
      "text/plain": [
       "<matplotlib.axes._subplots.AxesSubplot at 0x2816574b080>"
      ]
     },
     "execution_count": 252,
     "metadata": {},
     "output_type": "execute_result"
    },
    {
     "data": {
      "image/png": "[encoded data removed]",
      "text/plain": [
       "<Figure size 432x288 with 1 Axes>"
      ]
     },
     "metadata": {
      "needs_background": "light"
     },
     "output_type": "display_data"
    }
   ],
   "source": [
    "wild_fire.plot(x='Year', y='count_of_disasters', kind= 'line')"
   ]
  },
  {
   "cell_type": "code",
   "execution_count": 253,
   "metadata": {},
   "outputs": [
    {
     "data": {
      "text/plain": [
       "array([[<matplotlib.axes._subplots.AxesSubplot object at 0x000002816582CC18>,\n",
       "        <matplotlib.axes._subplots.AxesSubplot object at 0x0000028165849C88>]],\n",
       "      dtype=object)"
      ]
     },
     "execution_count": 253,
     "metadata": {},
     "output_type": "execute_result"
    },
    {
     "data": {
      "image/png": "[encoded data removed]",
      "text/plain": [
       "<Figure size 432x288 with 2 Axes>"
      ]
     },
     "metadata": {
      "needs_background": "light"
     },
     "output_type": "display_data"
    }
   ],
   "source": [
    "wild_fire.hist()"
   ]
  },
  {
   "cell_type": "code",
   "execution_count": null,
   "metadata": {},
   "outputs": [],
   "source": []
  },
  {
   "cell_type": "markdown",
   "metadata": {},
   "source": [
    "# All Natural Disasters"
   ]
  },
  {
   "cell_type": "code",
   "execution_count": 254,
   "metadata": {},
   "outputs": [
    {
     "data": {
      "text/html": [
       "<div>\n",
       "<style scoped>\n",
       "    .dataframe tbody tr th:only-of-type {\n",
       "        vertical-align: middle;\n",
       "    }\n",
       "\n",
       "    .dataframe tbody tr th {\n",
       "        vertical-align: top;\n",
       "    }\n",
       "\n",
       "    .dataframe thead th {\n",
       "        text-align: right;\n",
       "    }\n",
       "</style>\n",
       "<table border=\"1\" class=\"dataframe\">\n",
       "  <thead>\n",
       "    <tr style=\"text-align: right;\">\n",
       "      <th></th>\n",
       "      <th>Entity</th>\n",
       "      <th>Year</th>\n",
       "      <th>count_of_disasters</th>\n",
       "    </tr>\n",
       "  </thead>\n",
       "  <tbody>\n",
       "    <tr>\n",
       "      <th>0</th>\n",
       "      <td>All natural disasters</td>\n",
       "      <td>1900</td>\n",
       "      <td>5</td>\n",
       "    </tr>\n",
       "    <tr>\n",
       "      <th>1</th>\n",
       "      <td>All natural disasters</td>\n",
       "      <td>1901</td>\n",
       "      <td>2</td>\n",
       "    </tr>\n",
       "    <tr>\n",
       "      <th>2</th>\n",
       "      <td>All natural disasters</td>\n",
       "      <td>1902</td>\n",
       "      <td>9</td>\n",
       "    </tr>\n",
       "    <tr>\n",
       "      <th>3</th>\n",
       "      <td>All natural disasters</td>\n",
       "      <td>1903</td>\n",
       "      <td>8</td>\n",
       "    </tr>\n",
       "    <tr>\n",
       "      <th>4</th>\n",
       "      <td>All natural disasters</td>\n",
       "      <td>1904</td>\n",
       "      <td>2</td>\n",
       "    </tr>\n",
       "  </tbody>\n",
       "</table>\n",
       "</div>"
      ],
      "text/plain": [
       "                  Entity  Year  count_of_disasters\n",
       "0  All natural disasters  1900                   5\n",
       "1  All natural disasters  1901                   2\n",
       "2  All natural disasters  1902                   9\n",
       "3  All natural disasters  1903                   8\n",
       "4  All natural disasters  1904                   2"
      ]
     },
     "execution_count": 254,
     "metadata": {},
     "output_type": "execute_result"
    }
   ],
   "source": [
    "all_natural_disasters = natural_disasters[natural_disasters['Entity'] == 'All natural disasters']\n",
    "all_natural_disasters.head()"
   ]
  },
  {
   "cell_type": "code",
   "execution_count": 255,
   "metadata": {},
   "outputs": [],
   "source": [
    "all_natural_disasters.to_csv('all_nd_nd.csv')"
   ]
  },
  {
   "cell_type": "code",
   "execution_count": 256,
   "metadata": {
    "scrolled": true
   },
   "outputs": [
    {
     "name": "stdout",
     "output_type": "stream",
     "text": [
      "<class 'pandas.core.frame.DataFrame'>\n",
      "Int64Index: 120 entries, 0 to 119\n",
      "Data columns (total 3 columns):\n",
      "Entity                120 non-null object\n",
      "Year                  120 non-null int64\n",
      "count_of_disasters    120 non-null int64\n",
      "dtypes: int64(2), object(1)\n",
      "memory usage: 3.8+ KB\n"
     ]
    }
   ],
   "source": [
    "all_natural_disasters.info()"
   ]
  },
  {
   "cell_type": "code",
   "execution_count": 257,
   "metadata": {},
   "outputs": [
    {
     "name": "stdout",
     "output_type": "stream",
     "text": [
      " sum : 13573\n",
      " mean: 113.10833333333333\n",
      " max: 432\n",
      " min : 2\n",
      " var: 18314.752871148456\n",
      " std: 135.33200978020113\n"
     ]
    }
   ],
   "source": [
    "get_aggs(all_natural_disasters, 'count_of_disasters')"
   ]
  },
  {
   "cell_type": "code",
   "execution_count": 258,
   "metadata": {
    "scrolled": true
   },
   "outputs": [
    {
     "data": {
      "text/plain": [
       "<matplotlib.axes._subplots.AxesSubplot at 0x281658d6b38>"
      ]
     },
     "execution_count": 258,
     "metadata": {},
     "output_type": "execute_result"
    },
    {
     "data": {
      "image/png": "[encoded data removed]",
      "text/plain": [
       "<Figure size 432x288 with 1 Axes>"
      ]
     },
     "metadata": {
      "needs_background": "light"
     },
     "output_type": "display_data"
    }
   ],
   "source": [
    "all_natural_disasters.plot(x='Year', y='count_of_disasters', kind= 'line')"
   ]
  },
  {
   "cell_type": "code",
   "execution_count": 259,
   "metadata": {},
   "outputs": [
    {
     "data": {
      "text/plain": [
       "array([[<matplotlib.axes._subplots.AxesSubplot object at 0x0000028165958C18>,\n",
       "        <matplotlib.axes._subplots.AxesSubplot object at 0x00000281659790B8>]],\n",
       "      dtype=object)"
      ]
     },
     "execution_count": 259,
     "metadata": {},
     "output_type": "execute_result"
    },
    {
     "data": {
      "image/png": "[encoded data removed]",
      "text/plain": [
       "<Figure size 432x288 with 2 Axes>"
      ]
     },
     "metadata": {
      "needs_background": "light"
     },
     "output_type": "display_data"
    }
   ],
   "source": [
    "all_natural_disasters.hist()"
   ]
  },
  {
   "cell_type": "code",
   "execution_count": null,
   "metadata": {},
   "outputs": [],
   "source": []
  }
 ],
 "metadata": {
  "kernelspec": {
   "display_name": "Python 3",
   "language": "python",
   "name": "python3"
  },
  "language_info": {
   "codemirror_mode": {
    "name": "ipython",
    "version": 3
   },
   "file_extension": ".py",
   "mimetype": "text/x-python",
   "name": "python",
   "nbconvert_exporter": "python",
   "pygments_lexer": "ipython3",
   "version": "3.7.3"
  }
 },
 "nbformat": 4,
 "nbformat_minor": 2
}
